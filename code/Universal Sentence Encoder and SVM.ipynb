{
  "nbformat": 4,
  "nbformat_minor": 0,
  "metadata": {
    "colab": {
      "name": "Universal Sentence Encoder and SVM",
      "provenance": [],
      "collapsed_sections": [],
      "authorship_tag": "ABX9TyNDybU/MxJeTMBNFfKizhWQ",
      "include_colab_link": true
    },
    "kernelspec": {
      "name": "python3",
      "display_name": "Python 3"
    },
    "accelerator": "GPU"
  },
  "cells": [
    {
      "cell_type": "markdown",
      "metadata": {
        "id": "view-in-github",
        "colab_type": "text"
      },
      "source": [
        "<a href=\"https://colab.research.google.com/github/mkrsteska/BSA2020_Team_Tissot_Project_2/blob/master/code/Universal%20Sentence%20Encoder%20and%20SVM.ipynb\" target=\"_parent\"><img src=\"https://colab.research.google.com/assets/colab-badge.svg\" alt=\"Open In Colab\"/></a>"
      ]
    },
    {
      "cell_type": "markdown",
      "metadata": {
        "id": "1i0ocepQKDZy",
        "colab_type": "text"
      },
      "source": [
        "**In this notebook we have the model that achieved the best accuracy on Kaggle.**\n",
        "\n",
        "**The other models we have tried are in separate notebooks, that can be found in the GitHub repository.**"
      ]
    },
    {
      "cell_type": "markdown",
      "metadata": {
        "id": "PzVPWO1lgw7N",
        "colab_type": "text"
      },
      "source": [
        "### GitHub repository ###\n",
        "[GitHub](https://github.com/mkrsteska/BSA2020_Team_Tissot_Project_2)\n",
        "\n",
        "### Link to our video ###\n",
        "[Video](https://www.youtube.com/watch?v=WDVuDgq4BTc)"
      ]
    },
    {
      "cell_type": "markdown",
      "metadata": {
        "id": "PE4F7G0RjGlJ",
        "colab_type": "text"
      },
      "source": [
        "### Kaggle Ranking ###\n",
        "![Kaggle ranking](https://raw.githubusercontent.com/mkrsteska/BSA2020_Team_Tissot_Project_2/master/data/Kaggle_ranking.png)\n"
      ]
    },
    {
      "cell_type": "code",
      "metadata": {
        "id": "rmCJ_h1CzTsu",
        "colab_type": "code",
        "colab": {}
      },
      "source": [
        "import tensorflow as tf\n",
        "from tensorflow import keras\n",
        "import tensorflow_hub as hub\n",
        "from tqdm import tqdm\n",
        "from sklearn.svm import SVC\n",
        "from sklearn.model_selection import train_test_split\n",
        "import numpy as np\n",
        "import pandas as pd\n",
        "from preprocess_tweets import preprocess_tweet_use\n",
        "from sklearn.model_selection import GridSearchCV"
      ],
      "execution_count": 0,
      "outputs": []
    },
    {
      "cell_type": "markdown",
      "metadata": {
        "id": "kAa8NpVcGyDJ",
        "colab_type": "text"
      },
      "source": [
        "## Load Universal Sentence Encoder \n"
      ]
    },
    {
      "cell_type": "code",
      "metadata": {
        "id": "Iw5jj8vC0Agt",
        "colab_type": "code",
        "colab": {}
      },
      "source": [
        "# Load Universal Sentence Encoder\n",
        "use = hub.load(\"https://tfhub.dev/google/universal-sentence-encoder-large/5\")"
      ],
      "execution_count": 0,
      "outputs": []
    },
    {
      "cell_type": "code",
      "metadata": {
        "id": "hrSG4FamGxjo",
        "colab_type": "code",
        "colab": {}
      },
      "source": [
        "# Read the data \n",
        "df_train = pd.read_csv(\"https://raw.githubusercontent.com/mkrsteska/BSA2020_Team_Tissot_Project_2/master/data/train.csv\")\n",
        "df_test = pd.read_csv(\"https://raw.githubusercontent.com/mkrsteska/BSA2020_Team_Tissot_Project_2/master/data/test.csv\")"
      ],
      "execution_count": 0,
      "outputs": []
    },
    {
      "cell_type": "markdown",
      "metadata": {
        "id": "RnjzfyCt5Yq2",
        "colab_type": "text"
      },
      "source": [
        "## Model #1"
      ]
    },
    {
      "cell_type": "code",
      "metadata": {
        "colab_type": "code",
        "outputId": "586ee086-58e4-402a-db8e-c839021cf8d0",
        "id": "t-6HVOI5mEBF",
        "colab": {
          "base_uri": "https://localhost:8080/",
          "height": 34
        }
      },
      "source": [
        "# Encoding tweets into embedding vectors using universal sentence encoder\n",
        "\n",
        "X_train = []\n",
        "for r in tqdm(df_train.text.values):\n",
        "  emb = use([r])\n",
        "  text_emb = tf.reshape(emb, [-1]).numpy()\n",
        "  X_train.append(text_emb)\n",
        "  \n",
        "X_train = np.array(X_train)\n",
        "y_train = df_train.target.values"
      ],
      "execution_count": 0,
      "outputs": [
        {
          "output_type": "stream",
          "text": [
            "100%|██████████| 7613/7613 [03:00<00:00, 42.28it/s]\n"
          ],
          "name": "stderr"
        }
      ]
    },
    {
      "cell_type": "code",
      "metadata": {
        "colab_type": "code",
        "outputId": "d56f1163-d9ef-49a1-b490-044d9401c2bd",
        "id": "3DT_1vXrmRUS",
        "colab": {
          "base_uri": "https://localhost:8080/",
          "height": 34
        }
      },
      "source": [
        "# Encoding tweets into embedding vectors using universal sentence encoder\n",
        "\n",
        "X_test = []\n",
        "for r in tqdm(df_test.text.values):\n",
        "  emb = use([r])\n",
        "  text_emb = tf.reshape(emb, [-1]).numpy()\n",
        "  X_test.append(text_emb)\n",
        "\n",
        "X_test = np.array(X_test)"
      ],
      "execution_count": 0,
      "outputs": [
        {
          "output_type": "stream",
          "text": [
            "100%|██████████| 3263/3263 [01:14<00:00, 43.89it/s]\n"
          ],
          "name": "stderr"
        }
      ]
    },
    {
      "cell_type": "code",
      "metadata": {
        "id": "nE6knPM4wroh",
        "colab_type": "code",
        "outputId": "9822a303-8824-4054-e41c-68b33de50dc6",
        "colab": {
          "base_uri": "https://localhost:8080/",
          "height": 34
        }
      },
      "source": [
        "# Parameter estimation using grid search with cross-validation\n",
        "\n",
        "Cs = [1, 1.01, 1.03, 1.05, 1.07, 1.09, 1.1, 1.3, 1.5, 1.7, 1.9, 2]\n",
        "#Cs = [1.070, 1.074, 1.075, 1.1, 1.125]\n",
        "gammas = [2.01, 2.03, 2.05, 2.07, 2.09]\n",
        "#gammas = [2.065, 2.075, 2.08]\n",
        "param_grid = {'C': Cs, 'gamma' : gammas}\n",
        "grid_search = GridSearchCV(SVC(kernel='rbf'), param_grid, cv = 5, n_jobs=8)\n",
        "grid_search.fit(X_train, y_train)\n",
        "grid_search.best_params_"
      ],
      "execution_count": 0,
      "outputs": [
        {
          "output_type": "execute_result",
          "data": {
            "text/plain": [
              "{'C': 1, 'gamma': 2.09}"
            ]
          },
          "metadata": {
            "tags": []
          },
          "execution_count": 8
        }
      ]
    },
    {
      "cell_type": "code",
      "metadata": {
        "colab_type": "code",
        "id": "6ysBzAEPlqxy",
        "colab": {}
      },
      "source": [
        "X_train, X_val, y_train, y_val = train_test_split(X_train, y_train, test_size=0.05, random_state=37)"
      ],
      "execution_count": 0,
      "outputs": []
    },
    {
      "cell_type": "code",
      "metadata": {
        "id": "t5SSyfruHSqQ",
        "colab_type": "code",
        "outputId": "5fe28a6a-ee82-410e-c9d6-3a2a91d4f3f8",
        "colab": {
          "base_uri": "https://localhost:8080/",
          "height": 34
        }
      },
      "source": [
        "model_3 = SVC(kernel='rbf', C=1, gamma=2.09, probability=True)\n",
        "\n",
        "model_3.fit(X_train, y_train)\n",
        "\n",
        "model_3.score(X_val, y_val)"
      ],
      "execution_count": 0,
      "outputs": [
        {
          "output_type": "execute_result",
          "data": {
            "text/plain": [
              "0.8530183727034121"
            ]
          },
          "metadata": {
            "tags": []
          },
          "execution_count": 16
        }
      ]
    },
    {
      "cell_type": "markdown",
      "metadata": {
        "colab_type": "text",
        "id": "GDolKjjvHcPx"
      },
      "source": [
        "**Create submission files**"
      ]
    },
    {
      "cell_type": "code",
      "metadata": {
        "id": "KK7fRA381iFA",
        "colab_type": "code",
        "colab": {}
      },
      "source": [
        "ids = df_test['id'].to_numpy()"
      ],
      "execution_count": 0,
      "outputs": []
    },
    {
      "cell_type": "code",
      "metadata": {
        "id": "aG6ttdbWHiBe",
        "colab_type": "code",
        "colab": {}
      },
      "source": [
        "predictions_3 = model_3.predict(X_test)\n",
        "pd.DataFrame({'id': ids, 'target': predictions_3}).to_csv('14. Submission_SVC.csv', index=False)"
      ],
      "execution_count": 0,
      "outputs": []
    },
    {
      "cell_type": "markdown",
      "metadata": {
        "colab_type": "text",
        "id": "N99CzKv761lv"
      },
      "source": [
        "**Score** 0.82719"
      ]
    },
    {
      "cell_type": "markdown",
      "metadata": {
        "id": "6mEBCadJ5baz",
        "colab_type": "text"
      },
      "source": [
        "## Model #2"
      ]
    },
    {
      "cell_type": "markdown",
      "metadata": {
        "id": "vstApoz_hHhq",
        "colab_type": "text"
      },
      "source": [
        "#### Correct the mislabeled samples"
      ]
    },
    {
      "cell_type": "code",
      "metadata": {
        "id": "WDNz2gIohm6m",
        "colab_type": "code",
        "colab": {}
      },
      "source": [
        "# Correct the mislabeled samples\n",
        "ids_with_target_error = [328,443,513,2619,3640,3900,4342,5781,6552,6554,6570,6701,6702,6729,6861,7226]\n",
        "df_train.loc[df_train['id'].isin(ids_with_target_error),'target'] = 0"
      ],
      "execution_count": 0,
      "outputs": []
    },
    {
      "cell_type": "code",
      "metadata": {
        "id": "fko9RAYkG_At",
        "colab_type": "code",
        "outputId": "d2dd372b-2a3c-4a9c-9882-c9faf3880c47",
        "colab": {
          "base_uri": "https://localhost:8080/",
          "height": 34
        }
      },
      "source": [
        "# Encoding tweets into embedding vectors using universal sentence encoder\n",
        "\n",
        "X_train = []\n",
        "for r in tqdm(df_train.text.values):\n",
        "  emb = use([r])\n",
        "  text_emb = tf.reshape(emb, [-1]).numpy()\n",
        "  X_train.append(text_emb)\n",
        "  \n",
        "X_train = np.array(X_train)\n",
        "y_train = df_train.target.values"
      ],
      "execution_count": 0,
      "outputs": [
        {
          "output_type": "stream",
          "text": [
            "100%|██████████| 7613/7613 [03:01<00:00, 41.89it/s]\n"
          ],
          "name": "stderr"
        }
      ]
    },
    {
      "cell_type": "code",
      "metadata": {
        "id": "6nJ7tvgMHAOc",
        "colab_type": "code",
        "outputId": "70ff7cf2-6d26-4b75-8042-84c46cbf5ead",
        "colab": {
          "base_uri": "https://localhost:8080/",
          "height": 34
        }
      },
      "source": [
        "# Encoding tweets into embedding vectors using universal sentence encoder\n",
        "\n",
        "X_test = []\n",
        "for r in tqdm(df_test.text.values):\n",
        "  emb = use([r])\n",
        "  text_emb = tf.reshape(emb, [-1]).numpy()\n",
        "  X_test.append(text_emb)\n",
        "\n",
        "X_test = np.array(X_test)"
      ],
      "execution_count": 0,
      "outputs": [
        {
          "output_type": "stream",
          "text": [
            "100%|██████████| 3263/3263 [01:14<00:00, 43.61it/s]\n"
          ],
          "name": "stderr"
        }
      ]
    },
    {
      "cell_type": "code",
      "metadata": {
        "id": "NPv4jlN3HORy",
        "colab_type": "code",
        "colab": {}
      },
      "source": [
        "X_train, X_val, y_train, y_val = train_test_split(X_train, y_train, test_size=0.05, random_state=37)"
      ],
      "execution_count": 0,
      "outputs": []
    },
    {
      "cell_type": "code",
      "metadata": {
        "id": "In7nKfn7inHD",
        "colab_type": "code",
        "outputId": "5f0484da-e94b-4ae3-aaef-0c451173a566",
        "colab": {
          "base_uri": "https://localhost:8080/",
          "height": 34
        }
      },
      "source": [
        "# After correcting the mislabeled samples\n",
        "model_4 = SVC(kernel='rbf', C=1, gamma=2.09, probability=True)\n",
        "\n",
        "model_4.fit(X_train, y_train)\n",
        "\n",
        "model_4.score(X_val, y_val)"
      ],
      "execution_count": 0,
      "outputs": [
        {
          "output_type": "execute_result",
          "data": {
            "text/plain": [
              "0.8503937007874016"
            ]
          },
          "metadata": {
            "tags": []
          },
          "execution_count": 12
        }
      ]
    },
    {
      "cell_type": "markdown",
      "metadata": {
        "colab_type": "text",
        "id": "FcOzwFxxlgte"
      },
      "source": [
        "**Create a submission file**"
      ]
    },
    {
      "cell_type": "code",
      "metadata": {
        "id": "i2QClLt8jeuV",
        "colab_type": "code",
        "colab": {}
      },
      "source": [
        "predictions_4 = model_4.predict(X_test)\n",
        "pd.DataFrame({'id': ids, 'target': predictions_4}).to_csv('15. Submission_SVC.csv', index=False)"
      ],
      "execution_count": 0,
      "outputs": []
    },
    {
      "cell_type": "markdown",
      "metadata": {
        "colab_type": "text",
        "id": "r0TqIIJM6-fx"
      },
      "source": [
        "**Score** 0.82719"
      ]
    },
    {
      "cell_type": "markdown",
      "metadata": {
        "id": "TSjevNe65oJP",
        "colab_type": "text"
      },
      "source": [
        "## Model #3"
      ]
    },
    {
      "cell_type": "markdown",
      "metadata": {
        "id": "Ss875YFxPFBf",
        "colab_type": "text"
      },
      "source": [
        "#### Universal Sentence Encoder with preprocessed tweets"
      ]
    },
    {
      "cell_type": "code",
      "metadata": {
        "id": "UojP1N650rbL",
        "colab_type": "code",
        "colab": {}
      },
      "source": [
        "train_text = df_train.text.apply(preprocess_tweet_use)\n",
        "test_text = df_test.text.apply(preprocess_tweet_use)\n",
        "y_train = df_train.target"
      ],
      "execution_count": 0,
      "outputs": []
    },
    {
      "cell_type": "code",
      "metadata": {
        "id": "w16TWH8y0krn",
        "colab_type": "code",
        "outputId": "b97b00f2-f09a-49e0-8eda-712c8bcb9e4d",
        "colab": {
          "base_uri": "https://localhost:8080/",
          "height": 34
        }
      },
      "source": [
        "# Encoding tweets into embedding vectors using universal sentence encoder\n",
        "\n",
        "X_train = []\n",
        "for r in tqdm(train_text.values):\n",
        "  emb = use([r])\n",
        "  text_emb = tf.reshape(emb, [-1]).numpy()\n",
        "  X_train.append(text_emb)\n",
        "X_train = np.array(X_train)\n",
        "y_train = df_train.target.values"
      ],
      "execution_count": 22,
      "outputs": [
        {
          "output_type": "stream",
          "text": [
            "100%|██████████| 7613/7613 [02:53<00:00, 43.94it/s]\n"
          ],
          "name": "stderr"
        }
      ]
    },
    {
      "cell_type": "code",
      "metadata": {
        "id": "XLnRPvaz0wxi",
        "colab_type": "code",
        "outputId": "ba8b104a-6ef7-4bf0-f125-1f82ecde4adc",
        "colab": {
          "base_uri": "https://localhost:8080/",
          "height": 34
        }
      },
      "source": [
        "# Encoding tweets into embedding vectors using universal sentence encoder\n",
        "\n",
        "X_test = []\n",
        "for r in tqdm(test_text.values):\n",
        "  emb = use([r])\n",
        "  text_emb = tf.reshape(emb, [-1]).numpy()\n",
        "  X_test.append(text_emb)\n",
        "\n",
        "X_test = np.array(X_test)"
      ],
      "execution_count": 23,
      "outputs": [
        {
          "output_type": "stream",
          "text": [
            "100%|██████████| 3263/3263 [01:13<00:00, 44.48it/s]\n"
          ],
          "name": "stderr"
        }
      ]
    },
    {
      "cell_type": "code",
      "metadata": {
        "id": "1fZ36lpv00gh",
        "colab_type": "code",
        "colab": {}
      },
      "source": [
        "X_train, X_val, y_train, y_val = train_test_split(X_train, y_train, test_size=0.05, random_state=37)"
      ],
      "execution_count": 0,
      "outputs": []
    },
    {
      "cell_type": "code",
      "metadata": {
        "id": "Yk_TOCm-zZEg",
        "colab_type": "code",
        "outputId": "1dbf7313-556d-4938-f6bf-011080a05fd7",
        "colab": {
          "base_uri": "https://localhost:8080/",
          "height": 34
        }
      },
      "source": [
        "model = SVC(kernel='rbf', C=1, gamma=2.09, probability=True)\n",
        "\n",
        "model.fit(X_train, y_train)\n",
        "\n",
        "model.score(X_val, y_val)"
      ],
      "execution_count": 0,
      "outputs": [
        {
          "output_type": "execute_result",
          "data": {
            "text/plain": [
              "0.8535911602209945"
            ]
          },
          "metadata": {
            "tags": []
          },
          "execution_count": 26
        }
      ]
    },
    {
      "cell_type": "markdown",
      "metadata": {
        "id": "C7NUMGHn1b-E",
        "colab_type": "text"
      },
      "source": [
        "**Create a submission file**"
      ]
    },
    {
      "cell_type": "code",
      "metadata": {
        "id": "jTijOWs71kEL",
        "colab_type": "code",
        "colab": {}
      },
      "source": [
        "predictions = model.predict(X_test)\n",
        "pd.DataFrame({'id': ids, 'target': predictions}).to_csv('13. Submission_SVC.csv', index=False)"
      ],
      "execution_count": 0,
      "outputs": []
    },
    {
      "cell_type": "markdown",
      "metadata": {
        "id": "TFUtKAud8LLm",
        "colab_type": "text"
      },
      "source": [
        "**Score** 0.82617"
      ]
    },
    {
      "cell_type": "markdown",
      "metadata": {
        "id": "4ZNrPzuz7ZhS",
        "colab_type": "text"
      },
      "source": [
        "## Model #4"
      ]
    },
    {
      "cell_type": "markdown",
      "metadata": {
        "colab_type": "text",
        "id": "4JR1I3_q79IF"
      },
      "source": [
        "#### Universal Sentence Encoder with preprocessed tweets"
      ]
    },
    {
      "cell_type": "code",
      "metadata": {
        "id": "seOfeO9N1VTc",
        "colab_type": "code",
        "outputId": "4f0ea3a1-2243-4a1e-f0c4-348e78d96ff2",
        "colab": {
          "base_uri": "https://localhost:8080/",
          "height": 34
        }
      },
      "source": [
        "model_2 = SVC(kernel='rbf', C=1.07, gamma=2.075, probability=True)\n",
        "\n",
        "model_2.fit(X_train, y_train)\n",
        "\n",
        "model_2.score(X_val, y_val)"
      ],
      "execution_count": 0,
      "outputs": [
        {
          "output_type": "execute_result",
          "data": {
            "text/plain": [
              "0.850828729281768"
            ]
          },
          "metadata": {
            "tags": []
          },
          "execution_count": 33
        }
      ]
    },
    {
      "cell_type": "markdown",
      "metadata": {
        "colab_type": "text",
        "id": "ZFvlKuFr7SK9"
      },
      "source": [
        "**Create a submission file**"
      ]
    },
    {
      "cell_type": "code",
      "metadata": {
        "id": "aJ-9-h3u1mKm",
        "colab_type": "code",
        "colab": {}
      },
      "source": [
        "predictions_2 = model_2.predict(X_test)\n",
        "pd.DataFrame({'id': ids, 'target': predictions_2}).to_csv('8. Submission_SVC.csv', index=False)"
      ],
      "execution_count": 0,
      "outputs": []
    },
    {
      "cell_type": "markdown",
      "metadata": {
        "id": "Kjpum3Mz8PD-",
        "colab_type": "text"
      },
      "source": [
        "**Score** 0.82719"
      ]
    },
    {
      "cell_type": "code",
      "metadata": {
        "id": "4yZkzIha8SkG",
        "colab_type": "code",
        "colab": {}
      },
      "source": [
        ""
      ],
      "execution_count": 0,
      "outputs": []
    }
  ]
}
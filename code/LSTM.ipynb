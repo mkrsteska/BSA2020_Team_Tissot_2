{
 "cells": [
  {
   "cell_type": "code",
   "execution_count": 1,
   "metadata": {},
   "outputs": [
    {
     "name": "stderr",
     "output_type": "stream",
     "text": [
      "Using TensorFlow backend.\n"
     ]
    }
   ],
   "source": [
    "from keras.models import Sequential\n",
    "from keras.layers import *\n",
    "from preprocess_tweets import generate_embedding_matrix\n",
    "from sklearn.model_selection import train_test_split\n",
    "import numpy as np\n",
    "import pandas as pd"
   ]
  },
  {
   "cell_type": "code",
   "execution_count": 2,
   "metadata": {},
   "outputs": [],
   "source": [
    "MAX_WORDS = 30 "
   ]
  },
  {
   "cell_type": "code",
   "execution_count": 3,
   "metadata": {},
   "outputs": [],
   "source": [
    "X_train, y_train, X_test, embedding_matrix = generate_embedding_matrix()"
   ]
  },
  {
   "cell_type": "code",
   "execution_count": 4,
   "metadata": {},
   "outputs": [],
   "source": [
    "X_train, X_validation, y_train, y_validation = train_test_split(X_train, y_train, test_size=0.1, random_state=37)"
   ]
  },
  {
   "cell_type": "markdown",
   "metadata": {},
   "source": [
    "## LSTM with GloVe embeddings"
   ]
  },
  {
   "cell_type": "code",
   "execution_count": 5,
   "metadata": {},
   "outputs": [],
   "source": [
    "model = Sequential()\n",
    "\n",
    "model.add(Embedding(input_dim = embedding_matrix.shape[0], output_dim = embedding_matrix.shape[1], \n",
    "                    input_length=MAX_WORDS, weights=[embedding_matrix], trainable = False))\n",
    "        \n",
    "model.add(LSTM(units = 100, dropout = 0.2, recurrent_dropout = 0.2))\n",
    "        \n",
    "model.add(Dense(1, activation = 'sigmoid'))\n",
    "        \n",
    "model.compile(loss='binary_crossentropy', optimizer='adam', metrics=['accuracy'])"
   ]
  },
  {
   "cell_type": "code",
   "execution_count": 6,
   "metadata": {
    "scrolled": false
   },
   "outputs": [
    {
     "name": "stdout",
     "output_type": "stream",
     "text": [
      "Train on 6851 samples, validate on 762 samples\n",
      "Epoch 1/56\n",
      "6851/6851 [==============================] - 9s 1ms/step - loss: 0.6724 - accuracy: 0.6079 - val_loss: 0.6079 - val_accuracy: 0.7192\n",
      "Epoch 2/56\n",
      "6851/6851 [==============================] - 7s 955us/step - loss: 0.5812 - accuracy: 0.7200 - val_loss: 0.5221 - val_accuracy: 0.7612\n",
      "Epoch 3/56\n",
      "6851/6851 [==============================] - 7s 1ms/step - loss: 0.5440 - accuracy: 0.7446 - val_loss: 0.4897 - val_accuracy: 0.7743\n",
      "Epoch 4/56\n",
      "6851/6851 [==============================] - 8s 1ms/step - loss: 0.5275 - accuracy: 0.7535 - val_loss: 0.4732 - val_accuracy: 0.7848\n",
      "Epoch 5/56\n",
      "6851/6851 [==============================] - 8s 1ms/step - loss: 0.5189 - accuracy: 0.7605 - val_loss: 0.4636 - val_accuracy: 0.7900\n",
      "Epoch 6/56\n",
      "6851/6851 [==============================] - 10s 1ms/step - loss: 0.5179 - accuracy: 0.7543 - val_loss: 0.4639 - val_accuracy: 0.7940\n",
      "Epoch 7/56\n",
      "6851/6851 [==============================] - 10s 1ms/step - loss: 0.5121 - accuracy: 0.7593 - val_loss: 0.4646 - val_accuracy: 0.7874\n",
      "Epoch 8/56\n",
      "6851/6851 [==============================] - 8s 1ms/step - loss: 0.5056 - accuracy: 0.7704 - val_loss: 0.4600 - val_accuracy: 0.7953\n",
      "Epoch 9/56\n",
      "6851/6851 [==============================] - 7s 1ms/step - loss: 0.5030 - accuracy: 0.7625 - val_loss: 0.4547 - val_accuracy: 0.7940\n",
      "Epoch 10/56\n",
      "6851/6851 [==============================] - 7s 1ms/step - loss: 0.4974 - accuracy: 0.7686 - val_loss: 0.4557 - val_accuracy: 0.7966\n",
      "Epoch 11/56\n",
      "6851/6851 [==============================] - 6s 900us/step - loss: 0.4957 - accuracy: 0.7727 - val_loss: 0.4518 - val_accuracy: 0.7992\n",
      "Epoch 12/56\n",
      "6851/6851 [==============================] - 6s 913us/step - loss: 0.4953 - accuracy: 0.7704 - val_loss: 0.4471 - val_accuracy: 0.7979\n",
      "Epoch 13/56\n",
      "6851/6851 [==============================] - 7s 999us/step - loss: 0.4901 - accuracy: 0.7700 - val_loss: 0.4481 - val_accuracy: 0.8031\n",
      "Epoch 14/56\n",
      "6851/6851 [==============================] - 7s 978us/step - loss: 0.4928 - accuracy: 0.7757 - val_loss: 0.4435 - val_accuracy: 0.8005\n",
      "Epoch 15/56\n",
      "6851/6851 [==============================] - 6s 938us/step - loss: 0.4876 - accuracy: 0.7806 - val_loss: 0.4486 - val_accuracy: 0.7940\n",
      "Epoch 16/56\n",
      "6851/6851 [==============================] - 8s 1ms/step - loss: 0.4966 - accuracy: 0.7686 - val_loss: 0.4584 - val_accuracy: 0.8018\n",
      "Epoch 17/56\n",
      "6851/6851 [==============================] - 6s 874us/step - loss: 0.4882 - accuracy: 0.7717 - val_loss: 0.4458 - val_accuracy: 0.8071\n",
      "Epoch 18/56\n",
      "6851/6851 [==============================] - 6s 893us/step - loss: 0.4825 - accuracy: 0.7770 - val_loss: 0.4400 - val_accuracy: 0.7992\n",
      "Epoch 19/56\n",
      "6851/6851 [==============================] - 7s 979us/step - loss: 0.4760 - accuracy: 0.7860 - val_loss: 0.4436 - val_accuracy: 0.7953\n",
      "Epoch 20/56\n",
      "6851/6851 [==============================] - 6s 912us/step - loss: 0.4882 - accuracy: 0.7746 - val_loss: 0.4437 - val_accuracy: 0.7953\n",
      "Epoch 21/56\n",
      "6851/6851 [==============================] - 6s 911us/step - loss: 0.4815 - accuracy: 0.7799 - val_loss: 0.4351 - val_accuracy: 0.8045\n",
      "Epoch 22/56\n",
      "6851/6851 [==============================] - 6s 883us/step - loss: 0.4734 - accuracy: 0.7835 - val_loss: 0.4353 - val_accuracy: 0.7953\n",
      "Epoch 23/56\n",
      "6851/6851 [==============================] - 6s 905us/step - loss: 0.4715 - accuracy: 0.7875 - val_loss: 0.4351 - val_accuracy: 0.8005\n",
      "Epoch 24/56\n",
      "6851/6851 [==============================] - 6s 919us/step - loss: 0.4747 - accuracy: 0.7787 - val_loss: 0.4402 - val_accuracy: 0.7992\n",
      "Epoch 25/56\n",
      "6851/6851 [==============================] - 6s 945us/step - loss: 0.4733 - accuracy: 0.7832 - val_loss: 0.4459 - val_accuracy: 0.7992\n",
      "Epoch 26/56\n",
      "6851/6851 [==============================] - 6s 912us/step - loss: 0.4729 - accuracy: 0.7825 - val_loss: 0.4353 - val_accuracy: 0.7992\n",
      "Epoch 27/56\n",
      "6851/6851 [==============================] - 7s 971us/step - loss: 0.4709 - accuracy: 0.7850 - val_loss: 0.4338 - val_accuracy: 0.8097\n",
      "Epoch 28/56\n",
      "6851/6851 [==============================] - 6s 916us/step - loss: 0.4684 - accuracy: 0.7862 - val_loss: 0.4360 - val_accuracy: 0.8005\n",
      "Epoch 29/56\n",
      "6851/6851 [==============================] - 6s 945us/step - loss: 0.4611 - accuracy: 0.7924 - val_loss: 0.4350 - val_accuracy: 0.8071\n",
      "Epoch 30/56\n",
      "6851/6851 [==============================] - 6s 912us/step - loss: 0.4668 - accuracy: 0.7904 - val_loss: 0.4405 - val_accuracy: 0.8058\n",
      "Epoch 31/56\n",
      "6851/6851 [==============================] - 6s 947us/step - loss: 0.4676 - accuracy: 0.7853 - val_loss: 0.4387 - val_accuracy: 0.8005\n",
      "Epoch 32/56\n",
      "6851/6851 [==============================] - 6s 885us/step - loss: 0.4631 - accuracy: 0.7895 - val_loss: 0.4310 - val_accuracy: 0.8005\n",
      "Epoch 33/56\n",
      "6851/6851 [==============================] - 6s 923us/step - loss: 0.4673 - accuracy: 0.7878 - val_loss: 0.4320 - val_accuracy: 0.8005\n",
      "Epoch 34/56\n",
      "6851/6851 [==============================] - 8s 1ms/step - loss: 0.4701 - accuracy: 0.7821 - val_loss: 0.4333 - val_accuracy: 0.7900\n",
      "Epoch 35/56\n",
      "6851/6851 [==============================] - 6s 930us/step - loss: 0.4574 - accuracy: 0.7923 - val_loss: 0.4307 - val_accuracy: 0.8031\n",
      "Epoch 36/56\n",
      "6851/6851 [==============================] - 7s 954us/step - loss: 0.4633 - accuracy: 0.7907 - val_loss: 0.4402 - val_accuracy: 0.8018\n",
      "Epoch 37/56\n",
      "6851/6851 [==============================] - 6s 922us/step - loss: 0.4609 - accuracy: 0.7895 - val_loss: 0.4379 - val_accuracy: 0.7992\n",
      "Epoch 38/56\n",
      "6851/6851 [==============================] - 6s 900us/step - loss: 0.4527 - accuracy: 0.7946 - val_loss: 0.4294 - val_accuracy: 0.8045\n",
      "Epoch 39/56\n",
      "6851/6851 [==============================] - 6s 913us/step - loss: 0.4580 - accuracy: 0.7930 - val_loss: 0.4372 - val_accuracy: 0.7979\n",
      "Epoch 40/56\n",
      "6851/6851 [==============================] - 6s 920us/step - loss: 0.4552 - accuracy: 0.7961 - val_loss: 0.4376 - val_accuracy: 0.7966\n",
      "Epoch 41/56\n",
      "6851/6851 [==============================] - 6s 940us/step - loss: 0.4531 - accuracy: 0.7929 - val_loss: 0.4259 - val_accuracy: 0.8018\n",
      "Epoch 42/56\n",
      "6851/6851 [==============================] - 7s 989us/step - loss: 0.4513 - accuracy: 0.7967 - val_loss: 0.4291 - val_accuracy: 0.7979\n",
      "Epoch 43/56\n",
      "6851/6851 [==============================] - 6s 935us/step - loss: 0.4536 - accuracy: 0.7945 - val_loss: 0.4329 - val_accuracy: 0.8058\n",
      "Epoch 44/56\n",
      "6851/6851 [==============================] - 6s 945us/step - loss: 0.4583 - accuracy: 0.7980 - val_loss: 0.4278 - val_accuracy: 0.7953\n",
      "Epoch 45/56\n",
      "6851/6851 [==============================] - 7s 970us/step - loss: 0.4470 - accuracy: 0.8040 - val_loss: 0.4228 - val_accuracy: 0.8071\n",
      "Epoch 46/56\n",
      "6851/6851 [==============================] - 6s 925us/step - loss: 0.4456 - accuracy: 0.7977 - val_loss: 0.4395 - val_accuracy: 0.7927\n",
      "Epoch 47/56\n",
      "6851/6851 [==============================] - 7s 953us/step - loss: 0.4469 - accuracy: 0.7990 - val_loss: 0.4287 - val_accuracy: 0.8058\n",
      "Epoch 48/56\n",
      "6851/6851 [==============================] - 7s 958us/step - loss: 0.4553 - accuracy: 0.7945 - val_loss: 0.4432 - val_accuracy: 0.8031\n",
      "Epoch 49/56\n",
      "6851/6851 [==============================] - 6s 925us/step - loss: 0.4498 - accuracy: 0.7971 - val_loss: 0.4318 - val_accuracy: 0.8058\n",
      "Epoch 50/56\n",
      "6851/6851 [==============================] - 7s 958us/step - loss: 0.4426 - accuracy: 0.7999 - val_loss: 0.4309 - val_accuracy: 0.8018\n",
      "Epoch 51/56\n",
      "6851/6851 [==============================] - 6s 930us/step - loss: 0.4443 - accuracy: 0.8019 - val_loss: 0.4287 - val_accuracy: 0.8018\n",
      "Epoch 52/56\n",
      "6851/6851 [==============================] - 7s 986us/step - loss: 0.4403 - accuracy: 0.8022 - val_loss: 0.4246 - val_accuracy: 0.8018\n",
      "Epoch 53/56\n",
      "6851/6851 [==============================] - 7s 980us/step - loss: 0.4461 - accuracy: 0.7978 - val_loss: 0.4380 - val_accuracy: 0.8018\n",
      "Epoch 54/56\n",
      "6851/6851 [==============================] - 7s 975us/step - loss: 0.4432 - accuracy: 0.8011 - val_loss: 0.4272 - val_accuracy: 0.8084\n",
      "Epoch 55/56\n",
      "6851/6851 [==============================] - 7s 963us/step - loss: 0.4436 - accuracy: 0.7990 - val_loss: 0.4366 - val_accuracy: 0.8071\n",
      "Epoch 56/56\n",
      "6851/6851 [==============================] - 7s 957us/step - loss: 0.4377 - accuracy: 0.8038 - val_loss: 0.4259 - val_accuracy: 0.7992\n"
     ]
    },
    {
     "data": {
      "text/plain": [
       "<keras.callbacks.callbacks.History at 0x7fc81dfa6a90>"
      ]
     },
     "execution_count": 6,
     "metadata": {},
     "output_type": "execute_result"
    }
   ],
   "source": [
    "model.fit(X_train, np.array(y_train),\n",
    "          batch_size = 512,\n",
    "          epochs = 56,\n",
    "          validation_data = (X_validation, y_validation))"
   ]
  },
  {
   "cell_type": "markdown",
   "metadata": {},
   "source": [
    "#### Create a submission file"
   ]
  },
  {
   "cell_type": "code",
   "execution_count": 7,
   "metadata": {},
   "outputs": [],
   "source": [
    "test_predict = model.predict_classes(X_test)[:, 0]"
   ]
  },
  {
   "cell_type": "code",
   "execution_count": 8,
   "metadata": {},
   "outputs": [],
   "source": [
    "df_test = pd.read_csv(\"../data/test.csv\")\n",
    "ids = df_test['id'].to_numpy()"
   ]
  },
  {
   "cell_type": "code",
   "execution_count": 9,
   "metadata": {},
   "outputs": [],
   "source": [
    "pd.DataFrame({'id': ids, 'target': test_predict}).to_csv('../data/2. Submission_LSTM.csv', index=False)"
   ]
  },
  {
   "cell_type": "markdown",
   "metadata": {},
   "source": [
    "### Bidirectional LSTM"
   ]
  },
  {
   "cell_type": "code",
   "execution_count": 10,
   "metadata": {},
   "outputs": [],
   "source": [
    "model = Sequential()\n",
    "\n",
    "model.add(Embedding(input_dim = embedding_matrix.shape[0], output_dim = embedding_matrix.shape[1], \n",
    "                    input_length = MAX_WORDS, weights=[embedding_matrix], trainable = False))\n",
    "\n",
    "model.add(Bidirectional(LSTM(units = 100, dropout = 0.2, recurrent_dropout = 0.2)))\n",
    "\n",
    "model.add(Dense(1, activation='sigmoid'))\n",
    "\n",
    "model.compile(loss='binary_crossentropy', optimizer='adam', metrics=['accuracy'])"
   ]
  },
  {
   "cell_type": "code",
   "execution_count": 11,
   "metadata": {},
   "outputs": [
    {
     "name": "stdout",
     "output_type": "stream",
     "text": [
      "Train on 6851 samples, validate on 762 samples\n",
      "Epoch 1/25\n",
      "6851/6851 [==============================] - 14s 2ms/step - loss: 0.6520 - accuracy: 0.6275 - val_loss: 0.5905 - val_accuracy: 0.7139\n",
      "Epoch 2/25\n",
      "6851/6851 [==============================] - 11s 2ms/step - loss: 0.5504 - accuracy: 0.7316 - val_loss: 0.4966 - val_accuracy: 0.7743\n",
      "Epoch 3/25\n",
      "6851/6851 [==============================] - 11s 2ms/step - loss: 0.5070 - accuracy: 0.7644 - val_loss: 0.4757 - val_accuracy: 0.7913\n",
      "Epoch 4/25\n",
      "6851/6851 [==============================] - 11s 2ms/step - loss: 0.4917 - accuracy: 0.7711 - val_loss: 0.4706 - val_accuracy: 0.7966\n",
      "Epoch 5/25\n",
      "6851/6851 [==============================] - 11s 2ms/step - loss: 0.4902 - accuracy: 0.7697 - val_loss: 0.4547 - val_accuracy: 0.8018\n",
      "Epoch 6/25\n",
      "6851/6851 [==============================] - 11s 2ms/step - loss: 0.4822 - accuracy: 0.7794 - val_loss: 0.4549 - val_accuracy: 0.7979\n",
      "Epoch 7/25\n",
      "6851/6851 [==============================] - 11s 2ms/step - loss: 0.4855 - accuracy: 0.7711 - val_loss: 0.4517 - val_accuracy: 0.7992\n",
      "Epoch 8/25\n",
      "6851/6851 [==============================] - 11s 2ms/step - loss: 0.4753 - accuracy: 0.7808 - val_loss: 0.4440 - val_accuracy: 0.8084\n",
      "Epoch 9/25\n",
      "6851/6851 [==============================] - 11s 2ms/step - loss: 0.4760 - accuracy: 0.7783 - val_loss: 0.4459 - val_accuracy: 0.8123\n",
      "Epoch 10/25\n",
      "6851/6851 [==============================] - 11s 2ms/step - loss: 0.4725 - accuracy: 0.7824 - val_loss: 0.4384 - val_accuracy: 0.8110\n",
      "Epoch 11/25\n",
      "6851/6851 [==============================] - 11s 2ms/step - loss: 0.4665 - accuracy: 0.7840 - val_loss: 0.4416 - val_accuracy: 0.8097\n",
      "Epoch 12/25\n",
      "6851/6851 [==============================] - 11s 2ms/step - loss: 0.4679 - accuracy: 0.7835 - val_loss: 0.4393 - val_accuracy: 0.8031\n",
      "Epoch 13/25\n",
      "6851/6851 [==============================] - 11s 2ms/step - loss: 0.4632 - accuracy: 0.7878 - val_loss: 0.4364 - val_accuracy: 0.8045\n",
      "Epoch 14/25\n",
      "6851/6851 [==============================] - 11s 2ms/step - loss: 0.4624 - accuracy: 0.7869 - val_loss: 0.4384 - val_accuracy: 0.8018\n",
      "Epoch 15/25\n",
      "6851/6851 [==============================] - 11s 2ms/step - loss: 0.4614 - accuracy: 0.7904 - val_loss: 0.4362 - val_accuracy: 0.8031\n",
      "Epoch 16/25\n",
      "6851/6851 [==============================] - 10s 2ms/step - loss: 0.4616 - accuracy: 0.7882 - val_loss: 0.4377 - val_accuracy: 0.8058\n",
      "Epoch 17/25\n",
      "6851/6851 [==============================] - 10s 2ms/step - loss: 0.4532 - accuracy: 0.7932 - val_loss: 0.4438 - val_accuracy: 0.8110\n",
      "Epoch 18/25\n",
      "6851/6851 [==============================] - 10s 2ms/step - loss: 0.4587 - accuracy: 0.7939 - val_loss: 0.4421 - val_accuracy: 0.8136\n",
      "Epoch 19/25\n",
      "6851/6851 [==============================] - 11s 2ms/step - loss: 0.4524 - accuracy: 0.7959 - val_loss: 0.4345 - val_accuracy: 0.8005\n",
      "Epoch 20/25\n",
      "6851/6851 [==============================] - 12s 2ms/step - loss: 0.4479 - accuracy: 0.8000 - val_loss: 0.4293 - val_accuracy: 0.8071\n",
      "Epoch 21/25\n",
      "6851/6851 [==============================] - 13s 2ms/step - loss: 0.4493 - accuracy: 0.7942 - val_loss: 0.4378 - val_accuracy: 0.8058\n",
      "Epoch 22/25\n",
      "6851/6851 [==============================] - 13s 2ms/step - loss: 0.4511 - accuracy: 0.7970 - val_loss: 0.4455 - val_accuracy: 0.8018\n",
      "Epoch 23/25\n",
      "6851/6851 [==============================] - 13s 2ms/step - loss: 0.4434 - accuracy: 0.7961 - val_loss: 0.4302 - val_accuracy: 0.8018\n",
      "Epoch 24/25\n",
      "6851/6851 [==============================] - 13s 2ms/step - loss: 0.4420 - accuracy: 0.7955 - val_loss: 0.4330 - val_accuracy: 0.8084\n",
      "Epoch 25/25\n",
      "6851/6851 [==============================] - 14s 2ms/step - loss: 0.4375 - accuracy: 0.8005 - val_loss: 0.4320 - val_accuracy: 0.8150\n"
     ]
    },
    {
     "data": {
      "text/plain": [
       "<keras.callbacks.callbacks.History at 0x7fc8119ebe90>"
      ]
     },
     "execution_count": 11,
     "metadata": {},
     "output_type": "execute_result"
    }
   ],
   "source": [
    "model.fit(X_train, y_train,\n",
    "          batch_size = 512,\n",
    "          epochs = 25,\n",
    "          validation_data = (X_validation, y_validation))"
   ]
  },
  {
   "cell_type": "markdown",
   "metadata": {},
   "source": [
    "#### Create a submission file"
   ]
  },
  {
   "cell_type": "code",
   "execution_count": 12,
   "metadata": {},
   "outputs": [],
   "source": [
    "test_predict = model.predict_classes(X_test)[:, 0]"
   ]
  },
  {
   "cell_type": "code",
   "execution_count": 13,
   "metadata": {},
   "outputs": [],
   "source": [
    "df_test = pd.read_csv(\"../data/test.csv\")\n",
    "ids = df_test['id'].to_numpy()"
   ]
  },
  {
   "cell_type": "code",
   "execution_count": 14,
   "metadata": {},
   "outputs": [],
   "source": [
    "pd.DataFrame({'id': ids, 'target': test_predict}).to_csv('../data/3. Submission_Bidirectional_LSTM.csv', index=False)"
   ]
  },
  {
   "cell_type": "markdown",
   "metadata": {},
   "source": [
    "### CNN LSTM"
   ]
  },
  {
   "cell_type": "code",
   "execution_count": 15,
   "metadata": {},
   "outputs": [],
   "source": [
    "model = Sequential()\n",
    "\n",
    "model.add(Embedding(input_dim = embedding_matrix.shape[0], output_dim = embedding_matrix.shape[1], \n",
    "                    input_length = MAX_WORDS, weights=[embedding_matrix], trainable = False))\n",
    "\n",
    "model.add(Conv1D(filters = 128, kernel_size = 4, padding = 'valid', activation = 'relu'))\n",
    "\n",
    "model.add(MaxPooling1D(pool_size = 2))\n",
    "\n",
    "model.add(LSTM(units = 100, dropout = 0.2, recurrent_dropout = 0.1))\n",
    "\n",
    "model.add(Dense(1, activation='sigmoid'))\n",
    "\n",
    "model.compile(loss='binary_crossentropy', optimizer='adam', metrics=['accuracy'])"
   ]
  },
  {
   "cell_type": "code",
   "execution_count": 16,
   "metadata": {},
   "outputs": [
    {
     "name": "stdout",
     "output_type": "stream",
     "text": [
      "Train on 6851 samples, validate on 762 samples\n",
      "Epoch 1/20\n",
      "6851/6851 [==============================] - 10s 1ms/step - loss: 0.6521 - accuracy: 0.6358 - val_loss: 0.5705 - val_accuracy: 0.7244\n",
      "Epoch 2/20\n",
      "6851/6851 [==============================] - 6s 869us/step - loss: 0.5483 - accuracy: 0.7387 - val_loss: 0.4966 - val_accuracy: 0.7769\n",
      "Epoch 3/20\n",
      "6851/6851 [==============================] - 5s 740us/step - loss: 0.4993 - accuracy: 0.7732 - val_loss: 0.4726 - val_accuracy: 0.7756\n",
      "Epoch 4/20\n",
      "6851/6851 [==============================] - 5s 735us/step - loss: 0.4852 - accuracy: 0.7784 - val_loss: 0.4545 - val_accuracy: 0.7808\n",
      "Epoch 5/20\n",
      "6851/6851 [==============================] - 6s 925us/step - loss: 0.4737 - accuracy: 0.7847 - val_loss: 0.4472 - val_accuracy: 0.7992\n",
      "Epoch 6/20\n",
      "6851/6851 [==============================] - 7s 1ms/step - loss: 0.4609 - accuracy: 0.7889 - val_loss: 0.4433 - val_accuracy: 0.7900\n",
      "Epoch 7/20\n",
      "6851/6851 [==============================] - 7s 1ms/step - loss: 0.4586 - accuracy: 0.7924 - val_loss: 0.4415 - val_accuracy: 0.7822\n",
      "Epoch 8/20\n",
      "6851/6851 [==============================] - 7s 1ms/step - loss: 0.4462 - accuracy: 0.8012 - val_loss: 0.4377 - val_accuracy: 0.8045\n",
      "Epoch 9/20\n",
      "6851/6851 [==============================] - 5s 748us/step - loss: 0.4352 - accuracy: 0.8056 - val_loss: 0.4444 - val_accuracy: 0.7953\n",
      "Epoch 10/20\n",
      "6851/6851 [==============================] - 5s 697us/step - loss: 0.4314 - accuracy: 0.8076 - val_loss: 0.4387 - val_accuracy: 0.8018\n",
      "Epoch 11/20\n",
      "6851/6851 [==============================] - 5s 708us/step - loss: 0.4355 - accuracy: 0.8070 - val_loss: 0.4434 - val_accuracy: 0.8097\n",
      "Epoch 12/20\n",
      "6851/6851 [==============================] - 5s 691us/step - loss: 0.4284 - accuracy: 0.8040 - val_loss: 0.4448 - val_accuracy: 0.8045\n",
      "Epoch 13/20\n",
      "6851/6851 [==============================] - 6s 807us/step - loss: 0.4173 - accuracy: 0.8155 - val_loss: 0.4330 - val_accuracy: 0.8045\n",
      "Epoch 14/20\n",
      "6851/6851 [==============================] - 5s 785us/step - loss: 0.4063 - accuracy: 0.8206 - val_loss: 0.4347 - val_accuracy: 0.8005\n",
      "Epoch 15/20\n",
      "6851/6851 [==============================] - 5s 797us/step - loss: 0.4017 - accuracy: 0.8219 - val_loss: 0.4332 - val_accuracy: 0.8031\n",
      "Epoch 16/20\n",
      "6851/6851 [==============================] - 5s 748us/step - loss: 0.3975 - accuracy: 0.8288 - val_loss: 0.4301 - val_accuracy: 0.8071\n",
      "Epoch 17/20\n",
      "6851/6851 [==============================] - 5s 785us/step - loss: 0.3922 - accuracy: 0.8308 - val_loss: 0.4314 - val_accuracy: 0.8058\n",
      "Epoch 18/20\n",
      "6851/6851 [==============================] - 5s 766us/step - loss: 0.3889 - accuracy: 0.8364 - val_loss: 0.4351 - val_accuracy: 0.8058\n",
      "Epoch 19/20\n",
      "6851/6851 [==============================] - 6s 825us/step - loss: 0.3774 - accuracy: 0.8413 - val_loss: 0.4365 - val_accuracy: 0.8084\n",
      "Epoch 20/20\n",
      "6851/6851 [==============================] - 5s 731us/step - loss: 0.3683 - accuracy: 0.8402 - val_loss: 0.4370 - val_accuracy: 0.8150\n"
     ]
    },
    {
     "data": {
      "text/plain": [
       "<keras.callbacks.callbacks.History at 0x7fc81e6b6e50>"
      ]
     },
     "execution_count": 16,
     "metadata": {},
     "output_type": "execute_result"
    }
   ],
   "source": [
    "model.fit(X_train, y_train,\n",
    "          batch_size = 512,\n",
    "          epochs = 20,\n",
    "          validation_data = (X_validation, y_validation))"
   ]
  },
  {
   "cell_type": "markdown",
   "metadata": {},
   "source": [
    "#### Create submission csv"
   ]
  },
  {
   "cell_type": "code",
   "execution_count": 17,
   "metadata": {},
   "outputs": [],
   "source": [
    "test_predict = model.predict_classes(X_test)[:, 0]"
   ]
  },
  {
   "cell_type": "code",
   "execution_count": 18,
   "metadata": {},
   "outputs": [],
   "source": [
    "df_test = pd.read_csv(\"../data/test.csv\")\n",
    "ids = df_test['id'].to_numpy()"
   ]
  },
  {
   "cell_type": "code",
   "execution_count": 20,
   "metadata": {},
   "outputs": [],
   "source": [
    "pd.DataFrame({'id': ids, 'target': test_predict}).to_csv('../data/4. Submission_CNN_LSTM.csv', index=False)"
   ]
  }
 ],
 "metadata": {
  "kernelspec": {
   "display_name": "Python 3",
   "language": "python",
   "name": "python3"
  },
  "language_info": {
   "codemirror_mode": {
    "name": "ipython",
    "version": 3
   },
   "file_extension": ".py",
   "mimetype": "text/x-python",
   "name": "python",
   "nbconvert_exporter": "python",
   "pygments_lexer": "ipython3",
   "version": "3.7.6"
  }
 },
 "nbformat": 4,
 "nbformat_minor": 4
}

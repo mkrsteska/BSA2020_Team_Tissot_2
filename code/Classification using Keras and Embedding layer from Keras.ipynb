{
 "cells": [
  {
   "cell_type": "code",
   "execution_count": 1,
   "metadata": {},
   "outputs": [
    {
     "name": "stderr",
     "output_type": "stream",
     "text": [
      "Using TensorFlow backend.\n"
     ]
    }
   ],
   "source": [
    "import pandas as pd \n",
    "import numpy as np\n",
    "import re\n",
    "import collections\n",
    "import matplotlib.pyplot as plt\n",
    "\n",
    "from sklearn.model_selection import train_test_split\n",
    "from nltk.corpus import stopwords\n",
    "from keras.preprocessing.text import Tokenizer\n",
    "from keras.preprocessing.sequence import pad_sequences\n",
    "from keras.utils.np_utils import to_categorical\n",
    "from sklearn.preprocessing import LabelEncoder\n",
    "import sklearn.metrics as metrics\n",
    "\n",
    "from keras import models\n",
    "from keras import layers\n",
    "from keras.callbacks import EarlyStopping\n",
    "from keras.callbacks import ModelCheckpoint\n",
    "from keras.models import load_model\n",
    "from sklearn.model_selection import StratifiedKFold\n",
    "\n",
    "import warnings\n",
    "warnings.filterwarnings('ignore')\n",
    "\n",
    "from preprocess_tweets import preprocess_tweet"
   ]
  },
  {
   "cell_type": "code",
   "execution_count": 2,
   "metadata": {},
   "outputs": [],
   "source": [
    "MAX_LEN = 30 # Maximum number of words in a sequence"
   ]
  },
  {
   "cell_type": "code",
   "execution_count": 3,
   "metadata": {},
   "outputs": [],
   "source": [
    "'''Function to remove English stopwords from a Pandas Series.'''\n",
    "def remove_stopwords(input_text):\n",
    "    stopwords_list = stopwords.words('english')\n",
    "    # Some words which might indicate a certain sentiment are kept via a whitelist\n",
    "    whitelist = [\"n't\", \"not\", \"no\"]\n",
    "    words = input_text.split() \n",
    "    clean_words = [word for word in words if (word not in stopwords_list or word in whitelist) and len(word) > 1] \n",
    "    return \" \".join(clean_words) "
   ]
  },
  {
   "cell_type": "markdown",
   "metadata": {},
   "source": [
    "### Model #1"
   ]
  },
  {
   "cell_type": "code",
   "execution_count": 4,
   "metadata": {},
   "outputs": [],
   "source": [
    "df_train = pd.read_csv(\"../data/train.csv\")\n",
    "\n",
    "df_train.text = df_train.text.apply(preprocess_tweet).apply(remove_stopwords)"
   ]
  },
  {
   "cell_type": "code",
   "execution_count": 5,
   "metadata": {},
   "outputs": [],
   "source": [
    "X_train, X_test, y_train, y_test = train_test_split(df_train.text, df_train.target, test_size=0.1, random_state=37)"
   ]
  },
  {
   "cell_type": "code",
   "execution_count": 6,
   "metadata": {},
   "outputs": [],
   "source": [
    "tk = Tokenizer(num_words = 10000,\n",
    "               filters = '!\"#$%&()*+,-./:;<=>?@[\\\\]^_`{|}~\\t\\n',\n",
    "               split = \" \")\n",
    "tk.fit_on_texts(X_train)\n",
    "\n",
    "X_train_seq = tk.texts_to_sequences(X_train)\n",
    "X_test_seq = tk.texts_to_sequences(X_test)"
   ]
  },
  {
   "cell_type": "code",
   "execution_count": 7,
   "metadata": {},
   "outputs": [
    {
     "data": {
      "text/plain": [
       "count    7613.000000\n",
       "mean       10.306581\n",
       "std         4.052247\n",
       "min         1.000000\n",
       "25%         7.000000\n",
       "50%        10.000000\n",
       "75%        13.000000\n",
       "max        30.000000\n",
       "Name: text, dtype: float64"
      ]
     },
     "execution_count": 7,
     "metadata": {},
     "output_type": "execute_result"
    }
   ],
   "source": [
    "seq_lengths = df_train.text.apply(lambda x: len(x.split(' ')))\n",
    "seq_lengths.describe()"
   ]
  },
  {
   "cell_type": "code",
   "execution_count": 8,
   "metadata": {},
   "outputs": [],
   "source": [
    "X_train_seq_trunc = pad_sequences(X_train_seq, maxlen = MAX_LEN)\n",
    "X_test_seq_trunc = pad_sequences(X_test_seq, maxlen = MAX_LEN)"
   ]
  },
  {
   "cell_type": "code",
   "execution_count": 9,
   "metadata": {},
   "outputs": [],
   "source": [
    "le = LabelEncoder()\n",
    "y_train_le = le.fit_transform(y_train)\n",
    "y_test_le = le.transform(y_test)\n",
    "y_train_oh = to_categorical(y_train_le)\n",
    "y_test_oh = to_categorical(y_test_le)"
   ]
  },
  {
   "cell_type": "code",
   "execution_count": 10,
   "metadata": {},
   "outputs": [],
   "source": [
    "X_train_emb, X_valid_emb, y_train_emb, y_valid_emb = train_test_split(X_train_seq_trunc, y_train_oh, test_size=0.1, random_state=37)"
   ]
  },
  {
   "cell_type": "code",
   "execution_count": 11,
   "metadata": {},
   "outputs": [
    {
     "name": "stdout",
     "output_type": "stream",
     "text": [
      "Model: \"sequential_1\"\n",
      "_________________________________________________________________\n",
      "Layer (type)                 Output Shape              Param #   \n",
      "=================================================================\n",
      "embedding_1 (Embedding)      (None, 30, 8)             80000     \n",
      "_________________________________________________________________\n",
      "flatten_1 (Flatten)          (None, 240)               0         \n",
      "_________________________________________________________________\n",
      "dense_1 (Dense)              (None, 2)                 482       \n",
      "=================================================================\n",
      "Total params: 80,482\n",
      "Trainable params: 80,482\n",
      "Non-trainable params: 0\n",
      "_________________________________________________________________\n"
     ]
    }
   ],
   "source": [
    "emb_model = models.Sequential()\n",
    "emb_model.add(layers.Embedding(input_dim = 10000, output_dim = 8, input_length = MAX_LEN))\n",
    "emb_model.add(layers.Flatten())\n",
    "emb_model.add(layers.Dense(2, activation='softmax'))\n",
    "emb_model.summary()"
   ]
  },
  {
   "cell_type": "code",
   "execution_count": 12,
   "metadata": {},
   "outputs": [
    {
     "name": "stdout",
     "output_type": "stream",
     "text": [
      "Train on 6165 samples, validate on 686 samples\n",
      "Epoch 1/30\n",
      "6165/6165 [==============================] - 1s 166us/step - loss: 0.6894 - accuracy: 0.5413 - val_loss: 0.6921 - val_accuracy: 0.5160\n",
      "Epoch 2/30\n",
      "6165/6165 [==============================] - 0s 16us/step - loss: 0.6724 - accuracy: 0.5755 - val_loss: 0.6935 - val_accuracy: 0.5160\n",
      "Epoch 3/30\n",
      "6165/6165 [==============================] - 0s 17us/step - loss: 0.6611 - accuracy: 0.5755 - val_loss: 0.6892 - val_accuracy: 0.5175\n",
      "Epoch 4/30\n",
      "6165/6165 [==============================] - 0s 27us/step - loss: 0.6465 - accuracy: 0.5838 - val_loss: 0.6778 - val_accuracy: 0.5292\n",
      "Epoch 5/30\n",
      "6165/6165 [==============================] - 0s 14us/step - loss: 0.6273 - accuracy: 0.6099 - val_loss: 0.6665 - val_accuracy: 0.5481\n",
      "Epoch 6/30\n",
      "6165/6165 [==============================] - 0s 13us/step - loss: 0.6034 - accuracy: 0.6912 - val_loss: 0.6475 - val_accuracy: 0.6224\n",
      "Epoch 7/30\n",
      "6165/6165 [==============================] - 0s 14us/step - loss: 0.5751 - accuracy: 0.7672 - val_loss: 0.6306 - val_accuracy: 0.6676\n",
      "Epoch 8/30\n",
      "6165/6165 [==============================] - 0s 12us/step - loss: 0.5434 - accuracy: 0.8154 - val_loss: 0.6111 - val_accuracy: 0.6910\n",
      "Epoch 9/30\n",
      "6165/6165 [==============================] - 0s 12us/step - loss: 0.5099 - accuracy: 0.8422 - val_loss: 0.5937 - val_accuracy: 0.7114\n",
      "Epoch 10/30\n",
      "6165/6165 [==============================] - 0s 13us/step - loss: 0.4783 - accuracy: 0.8466 - val_loss: 0.5803 - val_accuracy: 0.7187\n",
      "Epoch 11/30\n",
      "6165/6165 [==============================] - 0s 12us/step - loss: 0.4467 - accuracy: 0.8689 - val_loss: 0.5632 - val_accuracy: 0.7332\n",
      "Epoch 12/30\n",
      "6165/6165 [==============================] - 0s 13us/step - loss: 0.4174 - accuracy: 0.8830 - val_loss: 0.5527 - val_accuracy: 0.7464\n",
      "Epoch 13/30\n",
      "6165/6165 [==============================] - 0s 18us/step - loss: 0.3902 - accuracy: 0.8908 - val_loss: 0.5425 - val_accuracy: 0.7551\n",
      "Epoch 14/30\n",
      "6165/6165 [==============================] - 0s 20us/step - loss: 0.3650 - accuracy: 0.8972 - val_loss: 0.5327 - val_accuracy: 0.7595\n",
      "Epoch 15/30\n",
      "6165/6165 [==============================] - 0s 13us/step - loss: 0.3420 - accuracy: 0.9072 - val_loss: 0.5240 - val_accuracy: 0.7609\n",
      "Epoch 16/30\n",
      "6165/6165 [==============================] - 0s 16us/step - loss: 0.3210 - accuracy: 0.9127 - val_loss: 0.5175 - val_accuracy: 0.7624\n",
      "Epoch 17/30\n",
      "6165/6165 [==============================] - 0s 18us/step - loss: 0.3019 - accuracy: 0.9166 - val_loss: 0.5142 - val_accuracy: 0.7653\n",
      "Epoch 18/30\n",
      "6165/6165 [==============================] - 0s 21us/step - loss: 0.2846 - accuracy: 0.9221 - val_loss: 0.5096 - val_accuracy: 0.7668\n",
      "Epoch 19/30\n",
      "6165/6165 [==============================] - 0s 14us/step - loss: 0.2686 - accuracy: 0.9320 - val_loss: 0.5046 - val_accuracy: 0.7580\n",
      "Epoch 20/30\n",
      "6165/6165 [==============================] - 0s 13us/step - loss: 0.2541 - accuracy: 0.9358 - val_loss: 0.5033 - val_accuracy: 0.7624\n",
      "Epoch 21/30\n",
      "6165/6165 [==============================] - 0s 17us/step - loss: 0.2407 - accuracy: 0.9377 - val_loss: 0.5024 - val_accuracy: 0.7580\n",
      "Epoch 22/30\n",
      "6165/6165 [==============================] - 0s 22us/step - loss: 0.2281 - accuracy: 0.9392 - val_loss: 0.5032 - val_accuracy: 0.7638\n",
      "Epoch 23/30\n",
      "6165/6165 [==============================] - 0s 24us/step - loss: 0.2167 - accuracy: 0.9419 - val_loss: 0.5031 - val_accuracy: 0.7624\n",
      "Epoch 24/30\n",
      "6165/6165 [==============================] - 0s 17us/step - loss: 0.2061 - accuracy: 0.9434 - val_loss: 0.5044 - val_accuracy: 0.7638\n",
      "Epoch 25/30\n",
      "6165/6165 [==============================] - 0s 23us/step - loss: 0.1966 - accuracy: 0.9457 - val_loss: 0.5054 - val_accuracy: 0.7638\n",
      "Epoch 26/30\n",
      "6165/6165 [==============================] - 0s 19us/step - loss: 0.1876 - accuracy: 0.9489 - val_loss: 0.5048 - val_accuracy: 0.7682\n",
      "Epoch 27/30\n",
      "6165/6165 [==============================] - 0s 13us/step - loss: 0.1793 - accuracy: 0.9509 - val_loss: 0.5075 - val_accuracy: 0.7668\n",
      "Epoch 28/30\n",
      "6165/6165 [==============================] - 0s 13us/step - loss: 0.1717 - accuracy: 0.9541 - val_loss: 0.5082 - val_accuracy: 0.7653\n",
      "Epoch 29/30\n",
      "6165/6165 [==============================] - 0s 12us/step - loss: 0.1645 - accuracy: 0.9577 - val_loss: 0.5088 - val_accuracy: 0.7624\n",
      "Epoch 30/30\n",
      "6165/6165 [==============================] - 0s 15us/step - loss: 0.1578 - accuracy: 0.9598 - val_loss: 0.5103 - val_accuracy: 0.7609\n"
     ]
    }
   ],
   "source": [
    "emb_model.compile(optimizer = 'adam', \n",
    "                  loss = 'binary_crossentropy', \n",
    "                  metrics = ['accuracy'])\n",
    "    \n",
    "emb_history = emb_model.fit(X_train_emb, \n",
    "                            y_train_emb, \n",
    "                            epochs = 30,\n",
    "                            batch_size = 512,\n",
    "                            validation_data = (X_valid_emb, y_valid_emb),\n",
    "                            verbose = 1)"
   ]
  },
  {
   "cell_type": "code",
   "execution_count": 13,
   "metadata": {},
   "outputs": [
    {
     "name": "stdout",
     "output_type": "stream",
     "text": [
      "762/762 [==============================] - 0s 26us/step\n"
     ]
    }
   ],
   "source": [
    "emb_model.fit(X_train_seq_trunc\n",
    "              , y_train_oh\n",
    "              , epochs=6\n",
    "              , batch_size = 30\n",
    "              , verbose=0)\n",
    "\n",
    "emb_results = emb_model.evaluate(X_test_seq_trunc, y_test_oh)"
   ]
  },
  {
   "cell_type": "code",
   "execution_count": 14,
   "metadata": {},
   "outputs": [
    {
     "name": "stdout",
     "output_type": "stream",
     "text": [
      "Test accuracy: 79.79%\n"
     ]
    }
   ],
   "source": [
    "print('Test accuracy: {0:.2f}%'.format(emb_results[1]*100))"
   ]
  },
  {
   "cell_type": "markdown",
   "metadata": {},
   "source": [
    "### Model #2 \n",
    "\n",
    "**implementing early stopping to prevent overfitiing**"
   ]
  },
  {
   "cell_type": "code",
   "execution_count": 15,
   "metadata": {},
   "outputs": [],
   "source": [
    "df_train = pd.read_csv(\"../data/train.csv\")\n",
    "df_test = pd.read_csv(\"../data/test_labeled.csv\")\n",
    "\n",
    "df_train.text = df_train.text.apply(preprocess_tweet).apply(remove_stopwords)\n",
    "df_test.text = df_test.text.apply(preprocess_tweet).apply(remove_stopwords)"
   ]
  },
  {
   "cell_type": "code",
   "execution_count": 16,
   "metadata": {},
   "outputs": [],
   "source": [
    "X_train = df_train.text\n",
    "y_train = df_train.target\n",
    "\n",
    "X_test = df_test.text\n",
    "y_test = df_test.target"
   ]
  },
  {
   "cell_type": "code",
   "execution_count": 17,
   "metadata": {},
   "outputs": [],
   "source": [
    "tk = Tokenizer(num_words = 10000,\n",
    "               filters = '!\"#$%&()*+,-./:;<=>?@[\\\\]^_`{|}~\\t\\n',\n",
    "               split = \" \")\n",
    "tk.fit_on_texts(X_train)\n",
    "\n",
    "X_train_seq = tk.texts_to_sequences(X_train)\n",
    "X_test_seq = tk.texts_to_sequences(X_test)"
   ]
  },
  {
   "cell_type": "code",
   "execution_count": 18,
   "metadata": {},
   "outputs": [],
   "source": [
    "X_train_seq_trunc = pad_sequences(X_train_seq, maxlen = MAX_LEN)\n",
    "X_test_seq_trunc = pad_sequences(X_test_seq, maxlen = MAX_LEN)"
   ]
  },
  {
   "cell_type": "code",
   "execution_count": 19,
   "metadata": {},
   "outputs": [],
   "source": [
    "le = LabelEncoder()\n",
    "y_train_le = le.fit_transform(y_train)\n",
    "y_test_le = le.transform(y_test)\n",
    "y_train_oh = to_categorical(y_train_le)\n",
    "y_test_oh = to_categorical(y_test_le)"
   ]
  },
  {
   "cell_type": "code",
   "execution_count": 20,
   "metadata": {},
   "outputs": [],
   "source": [
    "X_train_emb, X_valid_emb, y_train_emb, y_valid_emb = train_test_split(X_train_seq_trunc, y_train_oh, test_size=0.1, random_state=37)"
   ]
  },
  {
   "cell_type": "code",
   "execution_count": 21,
   "metadata": {},
   "outputs": [
    {
     "name": "stdout",
     "output_type": "stream",
     "text": [
      "Model: \"sequential_2\"\n",
      "_________________________________________________________________\n",
      "Layer (type)                 Output Shape              Param #   \n",
      "=================================================================\n",
      "embedding_2 (Embedding)      (None, 30, 64)            640000    \n",
      "_________________________________________________________________\n",
      "flatten_2 (Flatten)          (None, 1920)              0         \n",
      "_________________________________________________________________\n",
      "dense_2 (Dense)              (None, 2)                 3842      \n",
      "=================================================================\n",
      "Total params: 643,842\n",
      "Trainable params: 643,842\n",
      "Non-trainable params: 0\n",
      "_________________________________________________________________\n"
     ]
    }
   ],
   "source": [
    "emb_model = models.Sequential()\n",
    "emb_model.add(layers.Embedding(input_dim = 10000, output_dim = 64, input_length = MAX_LEN))\n",
    "emb_model.add(layers.Flatten())\n",
    "emb_model.add(layers.Dense(2, activation='softmax'))\n",
    "emb_model.summary()"
   ]
  },
  {
   "cell_type": "code",
   "execution_count": 22,
   "metadata": {},
   "outputs": [],
   "source": [
    "emb_model.compile(optimizer = 'adam', \n",
    "                  loss = 'binary_crossentropy', \n",
    "                  metrics = ['accuracy'])"
   ]
  },
  {
   "cell_type": "code",
   "execution_count": 23,
   "metadata": {},
   "outputs": [],
   "source": [
    "# simple early stopping\n",
    "es = EarlyStopping(monitor='val_loss', mode='min', verbose=1, patience=200)\n",
    "mc = ModelCheckpoint('../data/best_model_2.h5', monitor='val_accuracy', mode='max', verbose=1, save_best_only=True)"
   ]
  },
  {
   "cell_type": "code",
   "execution_count": 24,
   "metadata": {},
   "outputs": [
    {
     "name": "stdout",
     "output_type": "stream",
     "text": [
      "\n",
      "Epoch 00001: val_accuracy improved from -inf to 0.78084, saving model to ../data/best_model_2.h5\n",
      "\n",
      "Epoch 00002: val_accuracy improved from 0.78084 to 0.80184, saving model to ../data/best_model_2.h5\n",
      "\n",
      "Epoch 00003: val_accuracy did not improve from 0.80184\n",
      "\n",
      "Epoch 00004: val_accuracy did not improve from 0.80184\n",
      "\n",
      "Epoch 00005: val_accuracy did not improve from 0.80184\n",
      "\n",
      "Epoch 00006: val_accuracy did not improve from 0.80184\n",
      "\n",
      "Epoch 00007: val_accuracy did not improve from 0.80184\n",
      "\n",
      "Epoch 00008: val_accuracy did not improve from 0.80184\n",
      "\n",
      "Epoch 00009: val_accuracy did not improve from 0.80184\n",
      "\n",
      "Epoch 00010: val_accuracy did not improve from 0.80184\n",
      "\n",
      "Epoch 00011: val_accuracy did not improve from 0.80184\n",
      "\n",
      "Epoch 00012: val_accuracy did not improve from 0.80184\n",
      "\n",
      "Epoch 00013: val_accuracy did not improve from 0.80184\n",
      "\n",
      "Epoch 00014: val_accuracy did not improve from 0.80184\n",
      "\n",
      "Epoch 00015: val_accuracy did not improve from 0.80184\n",
      "\n",
      "Epoch 00016: val_accuracy did not improve from 0.80184\n",
      "\n",
      "Epoch 00017: val_accuracy did not improve from 0.80184\n",
      "\n",
      "Epoch 00018: val_accuracy did not improve from 0.80184\n",
      "\n",
      "Epoch 00019: val_accuracy did not improve from 0.80184\n",
      "\n",
      "Epoch 00020: val_accuracy did not improve from 0.80184\n",
      "\n",
      "Epoch 00021: val_accuracy did not improve from 0.80184\n",
      "\n",
      "Epoch 00022: val_accuracy did not improve from 0.80184\n",
      "\n",
      "Epoch 00023: val_accuracy did not improve from 0.80184\n",
      "\n",
      "Epoch 00024: val_accuracy did not improve from 0.80184\n",
      "\n",
      "Epoch 00025: val_accuracy did not improve from 0.80184\n",
      "\n",
      "Epoch 00026: val_accuracy did not improve from 0.80184\n",
      "\n",
      "Epoch 00027: val_accuracy did not improve from 0.80184\n",
      "\n",
      "Epoch 00028: val_accuracy did not improve from 0.80184\n",
      "\n",
      "Epoch 00029: val_accuracy did not improve from 0.80184\n",
      "\n",
      "Epoch 00030: val_accuracy did not improve from 0.80184\n"
     ]
    }
   ],
   "source": [
    "# fit model\n",
    "emb_history = emb_model.fit(X_train_emb, \n",
    "                            y_train_emb, \n",
    "                            epochs = 30,\n",
    "                            validation_data = (X_valid_emb, y_valid_emb),\n",
    "                            verbose=0, callbacks=[es, mc])"
   ]
  },
  {
   "cell_type": "code",
   "execution_count": 25,
   "metadata": {},
   "outputs": [],
   "source": [
    "# load the saved model\n",
    "saved_model = load_model('../data/best_model_2.h5')"
   ]
  },
  {
   "cell_type": "code",
   "execution_count": 26,
   "metadata": {},
   "outputs": [
    {
     "name": "stdout",
     "output_type": "stream",
     "text": [
      "Train accuracy: 0.926, Test accuracy: 0.790\n",
      "Test accuracy: 79.79%\n"
     ]
    }
   ],
   "source": [
    "# evaluate the model\n",
    "_, train_acc = saved_model.evaluate(X_train_seq_trunc, y_train_oh, verbose=0)\n",
    "_, test_acc = saved_model.evaluate(X_test_seq_trunc, y_test_oh, verbose=0)\n",
    "print('Train accuracy: %.3f, Test accuracy: %.3f' % (train_acc, test_acc))\n",
    "\n",
    "print('Test accuracy: {0:.2f}%'.format(emb_results[1]*100))"
   ]
  },
  {
   "cell_type": "markdown",
   "metadata": {},
   "source": [
    "### Model #3"
   ]
  },
  {
   "cell_type": "code",
   "execution_count": 27,
   "metadata": {},
   "outputs": [
    {
     "name": "stdout",
     "output_type": "stream",
     "text": [
      "Model: \"sequential_3\"\n",
      "_________________________________________________________________\n",
      "Layer (type)                 Output Shape              Param #   \n",
      "=================================================================\n",
      "embedding_3 (Embedding)      (None, 30, 64)            640000    \n",
      "_________________________________________________________________\n",
      "flatten_3 (Flatten)          (None, 1920)              0         \n",
      "_________________________________________________________________\n",
      "dense_3 (Dense)              (None, 64)                122944    \n",
      "_________________________________________________________________\n",
      "dropout_1 (Dropout)          (None, 64)                0         \n",
      "_________________________________________________________________\n",
      "dense_4 (Dense)              (None, 64)                4160      \n",
      "_________________________________________________________________\n",
      "dropout_2 (Dropout)          (None, 64)                0         \n",
      "_________________________________________________________________\n",
      "dense_5 (Dense)              (None, 64)                4160      \n",
      "_________________________________________________________________\n",
      "dropout_3 (Dropout)          (None, 64)                0         \n",
      "_________________________________________________________________\n",
      "dense_6 (Dense)              (None, 2)                 130       \n",
      "=================================================================\n",
      "Total params: 771,394\n",
      "Trainable params: 771,394\n",
      "Non-trainable params: 0\n",
      "_________________________________________________________________\n"
     ]
    }
   ],
   "source": [
    "emb_model = models.Sequential()\n",
    "emb_model.add(layers.Embedding(input_dim = 10000, output_dim = 64, input_length = MAX_LEN))\n",
    "emb_model.add(layers.Flatten())\n",
    "\n",
    "emb_model.add(layers.Dense(64, activation='relu'))\n",
    "emb_model.add(layers.Dropout(0.5))\n",
    "emb_model.add(layers.Dense(64, activation='relu'))\n",
    "emb_model.add(layers.Dropout(0.5))\n",
    "emb_model.add(layers.Dense(64, activation='relu'))\n",
    "emb_model.add(layers.Dropout(0.5))\n",
    "\n",
    "emb_model.add(layers.Dense(2, activation='softmax'))\n",
    "emb_model.summary()"
   ]
  },
  {
   "cell_type": "code",
   "execution_count": 28,
   "metadata": {},
   "outputs": [],
   "source": [
    "emb_model.compile(optimizer = 'adam', \n",
    "                  loss = 'binary_crossentropy', \n",
    "                  metrics = ['accuracy'])"
   ]
  },
  {
   "cell_type": "code",
   "execution_count": 31,
   "metadata": {},
   "outputs": [],
   "source": [
    "# simple early stopping\n",
    "es = EarlyStopping(monitor='val_loss', mode='min', verbose=1, patience=200)\n",
    "mc = ModelCheckpoint('../data/best_model_3.h5', monitor='val_accuracy', mode='max', verbose=1, save_best_only=True)"
   ]
  },
  {
   "cell_type": "code",
   "execution_count": 32,
   "metadata": {},
   "outputs": [
    {
     "name": "stdout",
     "output_type": "stream",
     "text": [
      "\n",
      "Epoch 00001: val_accuracy improved from -inf to 0.80971, saving model to ../data/best_model_3.h5\n",
      "\n",
      "Epoch 00002: val_accuracy did not improve from 0.80971\n",
      "\n",
      "Epoch 00003: val_accuracy did not improve from 0.80971\n",
      "\n",
      "Epoch 00004: val_accuracy did not improve from 0.80971\n",
      "\n",
      "Epoch 00005: val_accuracy did not improve from 0.80971\n",
      "\n",
      "Epoch 00006: val_accuracy did not improve from 0.80971\n",
      "\n",
      "Epoch 00007: val_accuracy did not improve from 0.80971\n",
      "\n",
      "Epoch 00008: val_accuracy did not improve from 0.80971\n",
      "\n",
      "Epoch 00009: val_accuracy did not improve from 0.80971\n",
      "\n",
      "Epoch 00010: val_accuracy did not improve from 0.80971\n",
      "\n",
      "Epoch 00011: val_accuracy did not improve from 0.80971\n",
      "\n",
      "Epoch 00012: val_accuracy did not improve from 0.80971\n",
      "\n",
      "Epoch 00013: val_accuracy did not improve from 0.80971\n",
      "\n",
      "Epoch 00014: val_accuracy did not improve from 0.80971\n",
      "\n",
      "Epoch 00015: val_accuracy did not improve from 0.80971\n",
      "\n",
      "Epoch 00016: val_accuracy did not improve from 0.80971\n",
      "\n",
      "Epoch 00017: val_accuracy did not improve from 0.80971\n",
      "\n",
      "Epoch 00018: val_accuracy did not improve from 0.80971\n",
      "\n",
      "Epoch 00019: val_accuracy did not improve from 0.80971\n",
      "\n",
      "Epoch 00020: val_accuracy did not improve from 0.80971\n",
      "\n",
      "Epoch 00021: val_accuracy did not improve from 0.80971\n",
      "\n",
      "Epoch 00022: val_accuracy did not improve from 0.80971\n",
      "\n",
      "Epoch 00023: val_accuracy did not improve from 0.80971\n",
      "\n",
      "Epoch 00024: val_accuracy did not improve from 0.80971\n",
      "\n",
      "Epoch 00025: val_accuracy did not improve from 0.80971\n",
      "\n",
      "Epoch 00026: val_accuracy did not improve from 0.80971\n",
      "\n",
      "Epoch 00027: val_accuracy did not improve from 0.80971\n",
      "\n",
      "Epoch 00028: val_accuracy did not improve from 0.80971\n",
      "\n",
      "Epoch 00029: val_accuracy did not improve from 0.80971\n",
      "\n",
      "Epoch 00030: val_accuracy did not improve from 0.80971\n"
     ]
    }
   ],
   "source": [
    "# fit model\n",
    "emb_history = emb_model.fit(X_train_emb, \n",
    "                            y_train_emb, \n",
    "                            epochs = 30,\n",
    "                            validation_data = (X_valid_emb, y_valid_emb),\n",
    "                            verbose=0, callbacks=[es, mc])"
   ]
  },
  {
   "cell_type": "code",
   "execution_count": 33,
   "metadata": {},
   "outputs": [],
   "source": [
    "# load the saved model\n",
    "saved_model = load_model('../data/best_model_3.h5')"
   ]
  },
  {
   "cell_type": "code",
   "execution_count": 34,
   "metadata": {},
   "outputs": [
    {
     "name": "stdout",
     "output_type": "stream",
     "text": [
      "Train accuracy: 0.920, Test accuracy: 0.795\n"
     ]
    }
   ],
   "source": [
    "# evaluate the model\n",
    "_, train_acc = saved_model.evaluate(X_train_seq_trunc, y_train_oh, verbose=0)\n",
    "_, test_acc = saved_model.evaluate(X_test_seq_trunc, y_test_oh, verbose=0)\n",
    "print('Train accuracy: %.3f, Test accuracy: %.3f' % (train_acc, test_acc))"
   ]
  },
  {
   "cell_type": "markdown",
   "metadata": {},
   "source": [
    "### Model #4"
   ]
  },
  {
   "cell_type": "code",
   "execution_count": 35,
   "metadata": {},
   "outputs": [],
   "source": [
    "df_train = pd.read_csv(\"../data/train.csv\")\n",
    "df_test = pd.read_csv(\"../data/test_labeled.csv\")\n",
    "\n",
    "df_train.text = df_train.text.apply(preprocess_tweet).apply(remove_stopwords)\n",
    "df_test.text = df_test.text.apply(preprocess_tweet).apply(remove_stopwords)"
   ]
  },
  {
   "cell_type": "code",
   "execution_count": 36,
   "metadata": {},
   "outputs": [],
   "source": [
    "X_train = df_train.text\n",
    "y_train = df_train.target\n",
    "\n",
    "X_test = df_test.text\n",
    "y_test = df_test.target"
   ]
  },
  {
   "cell_type": "code",
   "execution_count": 37,
   "metadata": {},
   "outputs": [],
   "source": [
    "tk = Tokenizer(num_words = 10000,\n",
    "               filters = '!\"#$%&()*+,-./:;<=>?@[\\\\]^_`{|}~\\t\\n',\n",
    "               split = \" \")\n",
    "tk.fit_on_texts(X_train)\n",
    "\n",
    "X_train_seq = tk.texts_to_sequences(X_train)\n",
    "X_test_seq = tk.texts_to_sequences(X_test)"
   ]
  },
  {
   "cell_type": "code",
   "execution_count": 38,
   "metadata": {},
   "outputs": [],
   "source": [
    "X_train_seq_trunc = pad_sequences(X_train_seq, maxlen = MAX_LEN)\n",
    "X_test_seq_trunc = pad_sequences(X_test_seq, maxlen = MAX_LEN)"
   ]
  },
  {
   "cell_type": "code",
   "execution_count": 39,
   "metadata": {},
   "outputs": [],
   "source": [
    "le = LabelEncoder()\n",
    "y_train_le = le.fit_transform(y_train)\n",
    "y_test_le = le.transform(y_test)\n",
    "y_train_oh = to_categorical(y_train_le)\n",
    "y_test_oh = to_categorical(y_test_le)"
   ]
  },
  {
   "cell_type": "code",
   "execution_count": 40,
   "metadata": {},
   "outputs": [
    {
     "name": "stdout",
     "output_type": "stream",
     "text": [
      "accuracy: 76.17%\n",
      "accuracy: 73.74%\n",
      "accuracy: 77.61%\n",
      "accuracy: 77.00%\n",
      "accuracy: 75.76%\n",
      "76.05% (+/- 1.33%)\n"
     ]
    }
   ],
   "source": [
    "# define 5-fold cross validation test harness\n",
    "kfold = StratifiedKFold(n_splits=5, shuffle=True, random_state=7)\n",
    "cvscores = []\n",
    "\n",
    "for train, test in kfold.split(X_train_seq_trunc, y_train_oh.argmax(1)):\n",
    "  # create model\n",
    "    emb_model = models.Sequential()\n",
    "    emb_model.add(layers.Embedding(input_dim = 10000, output_dim = 64, input_length = MAX_LEN))\n",
    "    emb_model.add(layers.Flatten())\n",
    "\n",
    "    emb_model.add(layers.Dense(8, activation='relu'))\n",
    "    emb_model.add(layers.Dropout(0.1))\n",
    "    emb_model.add(layers.Dense(8, activation='relu'))\n",
    "    emb_model.add(layers.Dropout(0.1))\n",
    "\n",
    "    emb_model.add(layers.Dense(2, activation='softmax'))\n",
    "    \n",
    "    # Compile model\n",
    "    emb_model.compile(optimizer = 'adam', loss = 'binary_crossentropy', metrics = ['accuracy'])    \n",
    "    \n",
    "    # Fit the model\n",
    "    emb_model.fit(X_train_seq_trunc[train], y_train_oh[train], epochs = 30, verbose=0)\n",
    "\n",
    "    # evaluate the model\n",
    "    scores = emb_model.evaluate(X_train_seq_trunc[test], y_train_oh[test], verbose=0)\n",
    "    \n",
    "    print(\"%s: %.2f%%\" % (emb_model.metrics_names[1], scores[1]*100))\n",
    "    cvscores.append(scores[1] * 100)\n",
    "print(\"%.2f%% (+/- %.2f%%)\" % (np.mean(cvscores), np.std(cvscores)))"
   ]
  },
  {
   "cell_type": "code",
   "execution_count": 41,
   "metadata": {},
   "outputs": [
    {
     "name": "stdout",
     "output_type": "stream",
     "text": [
      "Test accuracy: 0.764\n"
     ]
    }
   ],
   "source": [
    "# evaluate the model\n",
    "_, test_acc = emb_model.evaluate(X_test_seq_trunc, y_test_oh, verbose=0)\n",
    "print('Test accuracy: %.3f' % (test_acc))"
   ]
  }
 ],
 "metadata": {
  "kernelspec": {
   "display_name": "Python 3",
   "language": "python",
   "name": "python3"
  },
  "language_info": {
   "codemirror_mode": {
    "name": "ipython",
    "version": 3
   },
   "file_extension": ".py",
   "mimetype": "text/x-python",
   "name": "python",
   "nbconvert_exporter": "python",
   "pygments_lexer": "ipython3",
   "version": "3.7.6"
  }
 },
 "nbformat": 4,
 "nbformat_minor": 4
}

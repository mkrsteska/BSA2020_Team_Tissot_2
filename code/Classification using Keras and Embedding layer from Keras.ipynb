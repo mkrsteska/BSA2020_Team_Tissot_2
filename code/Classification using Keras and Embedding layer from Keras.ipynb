{
 "cells": [
  {
   "cell_type": "code",
   "execution_count": 1,
   "metadata": {},
   "outputs": [
    {
     "name": "stderr",
     "output_type": "stream",
     "text": [
      "Using TensorFlow backend.\n"
     ]
    }
   ],
   "source": [
    "import pandas as pd \n",
    "import numpy as np\n",
    "import re\n",
    "import collections\n",
    "import matplotlib.pyplot as plt\n",
    "\n",
    "from sklearn.model_selection import train_test_split\n",
    "from nltk.corpus import stopwords\n",
    "from keras.preprocessing.text import Tokenizer\n",
    "from keras.preprocessing.sequence import pad_sequences\n",
    "from keras.utils.np_utils import to_categorical\n",
    "from sklearn.preprocessing import LabelEncoder\n",
    "import sklearn.metrics as metrics\n",
    "\n",
    "from keras import models\n",
    "from keras import layers\n",
    "from keras.callbacks import EarlyStopping\n",
    "from keras.callbacks import ModelCheckpoint\n",
    "from keras.models import load_model\n",
    "from sklearn.model_selection import StratifiedKFold\n",
    "\n",
    "import warnings\n",
    "warnings.filterwarnings('ignore')\n",
    "\n",
    "from preprocess_tweets import preprocess_tweet, remove_stopwords"
   ]
  },
  {
   "cell_type": "code",
   "execution_count": 2,
   "metadata": {},
   "outputs": [],
   "source": [
    "MAX_LEN = 30 # Maximum number of words in a sequence"
   ]
  },
  {
   "cell_type": "markdown",
   "metadata": {},
   "source": [
    "### Model #1"
   ]
  },
  {
   "cell_type": "code",
   "execution_count": 3,
   "metadata": {},
   "outputs": [],
   "source": [
    "df_train = pd.read_csv(\"../data/train.csv\")\n",
    "\n",
    "df_train.text = df_train.text.apply(preprocess_tweet).apply(remove_stopwords)"
   ]
  },
  {
   "cell_type": "code",
   "execution_count": 4,
   "metadata": {},
   "outputs": [],
   "source": [
    "X_train, X_val, y_train, y_val = train_test_split(df_train.text, df_train.target, test_size=0.1, random_state=37)"
   ]
  },
  {
   "cell_type": "code",
   "execution_count": 5,
   "metadata": {},
   "outputs": [],
   "source": [
    "tk = Tokenizer(num_words = 10000,\n",
    "               filters = '!\"#$%&()*+,-./:;<=>?@[\\\\]^_`{|}~\\t\\n',\n",
    "               split = \" \")\n",
    "tk.fit_on_texts(X_train)\n",
    "\n",
    "X_train_seq = tk.texts_to_sequences(X_train)\n",
    "X_val_seq = tk.texts_to_sequences(X_val)"
   ]
  },
  {
   "cell_type": "code",
   "execution_count": 6,
   "metadata": {},
   "outputs": [
    {
     "data": {
      "text/plain": [
       "count    7613.000000\n",
       "mean       10.174044\n",
       "std         4.060505\n",
       "min         1.000000\n",
       "25%         7.000000\n",
       "50%        10.000000\n",
       "75%        13.000000\n",
       "max        28.000000\n",
       "Name: text, dtype: float64"
      ]
     },
     "execution_count": 6,
     "metadata": {},
     "output_type": "execute_result"
    }
   ],
   "source": [
    "seq_lengths = df_train.text.apply(lambda x: len(x.split(' ')))\n",
    "seq_lengths.describe()"
   ]
  },
  {
   "cell_type": "code",
   "execution_count": 7,
   "metadata": {},
   "outputs": [],
   "source": [
    "X_train_seq_trunc = pad_sequences(X_train_seq, maxlen = MAX_LEN)\n",
    "X_val_seq_trunc = pad_sequences(X_val_seq, maxlen = MAX_LEN)"
   ]
  },
  {
   "cell_type": "code",
   "execution_count": 8,
   "metadata": {},
   "outputs": [],
   "source": [
    "le = LabelEncoder()\n",
    "y_train_le = le.fit_transform(y_train)\n",
    "y_val_le = le.transform(y_val)\n",
    "y_train_oh = to_categorical(y_train_le)\n",
    "y_val_oh = to_categorical(y_val_le)"
   ]
  },
  {
   "cell_type": "code",
   "execution_count": 9,
   "metadata": {},
   "outputs": [
    {
     "name": "stdout",
     "output_type": "stream",
     "text": [
      "Model: \"sequential_1\"\n",
      "_________________________________________________________________\n",
      "Layer (type)                 Output Shape              Param #   \n",
      "=================================================================\n",
      "embedding_1 (Embedding)      (None, 30, 8)             80000     \n",
      "_________________________________________________________________\n",
      "flatten_1 (Flatten)          (None, 240)               0         \n",
      "_________________________________________________________________\n",
      "dense_1 (Dense)              (None, 2)                 482       \n",
      "=================================================================\n",
      "Total params: 80,482\n",
      "Trainable params: 80,482\n",
      "Non-trainable params: 0\n",
      "_________________________________________________________________\n"
     ]
    }
   ],
   "source": [
    "emb_model = models.Sequential()\n",
    "emb_model.add(layers.Embedding(input_dim = 10000, output_dim = 8, input_length = MAX_LEN))\n",
    "emb_model.add(layers.Flatten())\n",
    "emb_model.add(layers.Dense(2, activation='softmax'))\n",
    "emb_model.summary()"
   ]
  },
  {
   "cell_type": "code",
   "execution_count": 10,
   "metadata": {},
   "outputs": [],
   "source": [
    "emb_model.compile(optimizer = 'adam', \n",
    "                  loss = 'binary_crossentropy', \n",
    "                  metrics = ['accuracy'])"
   ]
  },
  {
   "cell_type": "code",
   "execution_count": 11,
   "metadata": {},
   "outputs": [
    {
     "name": "stdout",
     "output_type": "stream",
     "text": [
      "Train on 6851 samples, validate on 762 samples\n",
      "Epoch 1/30\n",
      "6851/6851 [==============================] - 1s 139us/step - loss: 0.6868 - accuracy: 0.5497 - val_loss: 0.6739 - val_accuracy: 0.5853\n",
      "Epoch 2/30\n",
      "6851/6851 [==============================] - 0s 20us/step - loss: 0.6670 - accuracy: 0.5701 - val_loss: 0.6606 - val_accuracy: 0.5866\n",
      "Epoch 3/30\n",
      "6851/6851 [==============================] - 0s 18us/step - loss: 0.6511 - accuracy: 0.5808 - val_loss: 0.6481 - val_accuracy: 0.6115\n",
      "Epoch 4/30\n",
      "6851/6851 [==============================] - 0s 22us/step - loss: 0.6302 - accuracy: 0.6511 - val_loss: 0.6320 - val_accuracy: 0.6706\n",
      "Epoch 5/30\n",
      "6851/6851 [==============================] - 0s 21us/step - loss: 0.6039 - accuracy: 0.7323 - val_loss: 0.6126 - val_accuracy: 0.7021\n",
      "Epoch 6/30\n",
      "6851/6851 [==============================] - 0s 22us/step - loss: 0.5735 - accuracy: 0.7681 - val_loss: 0.5917 - val_accuracy: 0.7165\n",
      "Epoch 7/30\n",
      "6851/6851 [==============================] - 0s 20us/step - loss: 0.5405 - accuracy: 0.7983 - val_loss: 0.5719 - val_accuracy: 0.7415\n",
      "Epoch 8/30\n",
      "6851/6851 [==============================] - 0s 16us/step - loss: 0.5070 - accuracy: 0.8225 - val_loss: 0.5530 - val_accuracy: 0.7480\n",
      "Epoch 9/30\n",
      "6851/6851 [==============================] - 0s 16us/step - loss: 0.4735 - accuracy: 0.8397 - val_loss: 0.5355 - val_accuracy: 0.7533\n",
      "Epoch 10/30\n",
      "6851/6851 [==============================] - 0s 19us/step - loss: 0.4411 - accuracy: 0.8562 - val_loss: 0.5195 - val_accuracy: 0.7664\n",
      "Epoch 11/30\n",
      "6851/6851 [==============================] - 0s 19us/step - loss: 0.4104 - accuracy: 0.8704 - val_loss: 0.5049 - val_accuracy: 0.7664\n",
      "Epoch 12/30\n",
      "6851/6851 [==============================] - 0s 18us/step - loss: 0.3821 - accuracy: 0.8794 - val_loss: 0.4931 - val_accuracy: 0.7717\n",
      "Epoch 13/30\n",
      "6851/6851 [==============================] - 0s 18us/step - loss: 0.3562 - accuracy: 0.8897 - val_loss: 0.4830 - val_accuracy: 0.7743\n",
      "Epoch 14/30\n",
      "6851/6851 [==============================] - 0s 17us/step - loss: 0.3327 - accuracy: 0.8965 - val_loss: 0.4754 - val_accuracy: 0.7769\n",
      "Epoch 15/30\n",
      "6851/6851 [==============================] - 0s 21us/step - loss: 0.3116 - accuracy: 0.9035 - val_loss: 0.4687 - val_accuracy: 0.7808\n",
      "Epoch 16/30\n",
      "6851/6851 [==============================] - 0s 19us/step - loss: 0.2924 - accuracy: 0.9105 - val_loss: 0.4636 - val_accuracy: 0.7835\n",
      "Epoch 17/30\n",
      "6851/6851 [==============================] - 0s 22us/step - loss: 0.2751 - accuracy: 0.9181 - val_loss: 0.4599 - val_accuracy: 0.7822\n",
      "Epoch 18/30\n",
      "6851/6851 [==============================] - 0s 19us/step - loss: 0.2594 - accuracy: 0.9235 - val_loss: 0.4576 - val_accuracy: 0.7835\n",
      "Epoch 19/30\n",
      "6851/6851 [==============================] - 0s 17us/step - loss: 0.2451 - accuracy: 0.9270 - val_loss: 0.4559 - val_accuracy: 0.7835\n",
      "Epoch 20/30\n",
      "6851/6851 [==============================] - 0s 18us/step - loss: 0.2321 - accuracy: 0.9323 - val_loss: 0.4546 - val_accuracy: 0.7900\n",
      "Epoch 21/30\n",
      "6851/6851 [==============================] - 0s 22us/step - loss: 0.2198 - accuracy: 0.9356 - val_loss: 0.4536 - val_accuracy: 0.7913\n",
      "Epoch 22/30\n",
      "6851/6851 [==============================] - 0s 18us/step - loss: 0.2087 - accuracy: 0.9378 - val_loss: 0.4541 - val_accuracy: 0.7900\n",
      "Epoch 23/30\n",
      "6851/6851 [==============================] - 0s 19us/step - loss: 0.1985 - accuracy: 0.9410 - val_loss: 0.4543 - val_accuracy: 0.7940\n",
      "Epoch 24/30\n",
      "6851/6851 [==============================] - 0s 18us/step - loss: 0.1887 - accuracy: 0.9445 - val_loss: 0.4550 - val_accuracy: 0.7913\n",
      "Epoch 25/30\n",
      "6851/6851 [==============================] - 0s 19us/step - loss: 0.1800 - accuracy: 0.9488 - val_loss: 0.4561 - val_accuracy: 0.7966\n",
      "Epoch 26/30\n",
      "6851/6851 [==============================] - 0s 20us/step - loss: 0.1718 - accuracy: 0.9520 - val_loss: 0.4576 - val_accuracy: 0.7966\n",
      "Epoch 27/30\n",
      "6851/6851 [==============================] - 0s 16us/step - loss: 0.1641 - accuracy: 0.9553 - val_loss: 0.4594 - val_accuracy: 0.7940\n",
      "Epoch 28/30\n",
      "6851/6851 [==============================] - 0s 21us/step - loss: 0.1568 - accuracy: 0.9578 - val_loss: 0.4611 - val_accuracy: 0.7966\n",
      "Epoch 29/30\n",
      "6851/6851 [==============================] - 0s 21us/step - loss: 0.1501 - accuracy: 0.9602 - val_loss: 0.4629 - val_accuracy: 0.8005\n",
      "Epoch 30/30\n",
      "6851/6851 [==============================] - 0s 23us/step - loss: 0.1438 - accuracy: 0.9623 - val_loss: 0.4654 - val_accuracy: 0.8045\n"
     ]
    },
    {
     "data": {
      "text/plain": [
       "<keras.callbacks.callbacks.History at 0x7fbf103f9e90>"
      ]
     },
     "execution_count": 11,
     "metadata": {},
     "output_type": "execute_result"
    }
   ],
   "source": [
    "emb_model.fit(X_train_seq_trunc, \n",
    "                y_train_oh, \n",
    "                epochs = 30,\n",
    "                batch_size = 512,\n",
    "                validation_data = (X_val_seq_trunc, y_val_oh),\n",
    "                verbose = 1)"
   ]
  },
  {
   "cell_type": "markdown",
   "metadata": {},
   "source": [
    "**Create submission file**"
   ]
  },
  {
   "cell_type": "code",
   "execution_count": 12,
   "metadata": {},
   "outputs": [],
   "source": [
    "df_test = pd.read_csv(\"../data/test.csv\")"
   ]
  },
  {
   "cell_type": "code",
   "execution_count": 13,
   "metadata": {},
   "outputs": [],
   "source": [
    "ids = df_test['id'].to_numpy()\n",
    "\n",
    "X_test = df_test.text.apply(preprocess_tweet).apply(remove_stopwords)\n",
    "tk = Tokenizer(num_words = 10000,\n",
    "               filters = '!\"#$%&()*+,-./:;<=>?@[\\\\]^_`{|}~\\t\\n',\n",
    "               split = \" \")\n",
    "tk.fit_on_texts(X_test)\n",
    "\n",
    "X_test_seq = tk.texts_to_sequences(X_test)\n",
    "X_test_seq_trunc = pad_sequences(X_test_seq, maxlen = MAX_LEN)"
   ]
  },
  {
   "cell_type": "code",
   "execution_count": 14,
   "metadata": {},
   "outputs": [],
   "source": [
    "predictions = emb_model.predict_classes(X_test_seq_trunc)"
   ]
  },
  {
   "cell_type": "code",
   "execution_count": 15,
   "metadata": {},
   "outputs": [],
   "source": [
    "pd.DataFrame({'id': ids, 'target': predictions}).to_csv('../data/9. Submission_Keras_Embeddings.csv', index=False)"
   ]
  },
  {
   "cell_type": "markdown",
   "metadata": {},
   "source": [
    "**Submission result**\n",
    "\n",
    "Score: 0.56032"
   ]
  },
  {
   "cell_type": "markdown",
   "metadata": {},
   "source": [
    "### Model #2 \n",
    "\n",
    "**implementing early stopping to prevent overfitiing**"
   ]
  },
  {
   "cell_type": "code",
   "execution_count": 16,
   "metadata": {},
   "outputs": [],
   "source": [
    "df_train = pd.read_csv(\"../data/train.csv\")"
   ]
  },
  {
   "cell_type": "code",
   "execution_count": 17,
   "metadata": {},
   "outputs": [],
   "source": [
    "X_train = df_train.text.apply(preprocess_tweet).apply(remove_stopwords)\n",
    "y_train = df_train.target"
   ]
  },
  {
   "cell_type": "code",
   "execution_count": 18,
   "metadata": {},
   "outputs": [],
   "source": [
    "X_train, X_val, y_train, y_val = train_test_split(df_train.text, df_train.target, test_size=0.1, random_state=37)"
   ]
  },
  {
   "cell_type": "code",
   "execution_count": 19,
   "metadata": {},
   "outputs": [],
   "source": [
    "tk = Tokenizer(num_words = 10000,\n",
    "               filters = '!\"#$%&()*+,-./:;<=>?@[\\\\]^_`{|}~\\t\\n',\n",
    "               split = \" \")\n",
    "tk.fit_on_texts(X_train)\n",
    "\n",
    "X_train_seq = tk.texts_to_sequences(X_train)\n",
    "X_val_seq = tk.texts_to_sequences(X_val)"
   ]
  },
  {
   "cell_type": "code",
   "execution_count": 20,
   "metadata": {},
   "outputs": [],
   "source": [
    "X_train_seq_trunc = pad_sequences(X_train_seq, maxlen = MAX_LEN)\n",
    "X_val_seq_trunc = pad_sequences(X_val_seq, maxlen = MAX_LEN)"
   ]
  },
  {
   "cell_type": "code",
   "execution_count": 21,
   "metadata": {},
   "outputs": [],
   "source": [
    "le = LabelEncoder()\n",
    "y_train_le = le.fit_transform(y_train)\n",
    "y_val_le = le.transform(y_val)\n",
    "y_train_oh = to_categorical(y_train_le)\n",
    "y_val_oh = to_categorical(y_val_le)"
   ]
  },
  {
   "cell_type": "code",
   "execution_count": 22,
   "metadata": {},
   "outputs": [
    {
     "name": "stdout",
     "output_type": "stream",
     "text": [
      "Model: \"sequential_2\"\n",
      "_________________________________________________________________\n",
      "Layer (type)                 Output Shape              Param #   \n",
      "=================================================================\n",
      "embedding_2 (Embedding)      (None, 30, 64)            640000    \n",
      "_________________________________________________________________\n",
      "flatten_2 (Flatten)          (None, 1920)              0         \n",
      "_________________________________________________________________\n",
      "dense_2 (Dense)              (None, 2)                 3842      \n",
      "=================================================================\n",
      "Total params: 643,842\n",
      "Trainable params: 643,842\n",
      "Non-trainable params: 0\n",
      "_________________________________________________________________\n"
     ]
    }
   ],
   "source": [
    "emb_model = models.Sequential()\n",
    "emb_model.add(layers.Embedding(input_dim = 10000, output_dim = 64, input_length = MAX_LEN))\n",
    "emb_model.add(layers.Flatten())\n",
    "emb_model.add(layers.Dense(2, activation='softmax'))\n",
    "emb_model.summary()"
   ]
  },
  {
   "cell_type": "code",
   "execution_count": 23,
   "metadata": {},
   "outputs": [],
   "source": [
    "emb_model.compile(optimizer = 'adam', \n",
    "                  loss = 'binary_crossentropy', \n",
    "                  metrics = ['accuracy'])"
   ]
  },
  {
   "cell_type": "code",
   "execution_count": 24,
   "metadata": {},
   "outputs": [],
   "source": [
    "# simple early stopping\n",
    "es = EarlyStopping(monitor='val_loss', mode='min', verbose=1, patience=200)\n",
    "mc = ModelCheckpoint('../data/model_2.h5', monitor='val_accuracy', mode='max', verbose=1, save_best_only=True)"
   ]
  },
  {
   "cell_type": "code",
   "execution_count": 25,
   "metadata": {},
   "outputs": [
    {
     "name": "stdout",
     "output_type": "stream",
     "text": [
      "\n",
      "Epoch 00001: val_accuracy improved from -inf to 0.63386, saving model to ../data/model_2.h5\n",
      "\n",
      "Epoch 00002: val_accuracy improved from 0.63386 to 0.69160, saving model to ../data/model_2.h5\n",
      "\n",
      "Epoch 00003: val_accuracy improved from 0.69160 to 0.71391, saving model to ../data/model_2.h5\n",
      "\n",
      "Epoch 00004: val_accuracy improved from 0.71391 to 0.74803, saving model to ../data/model_2.h5\n",
      "\n",
      "Epoch 00005: val_accuracy improved from 0.74803 to 0.77165, saving model to ../data/model_2.h5\n",
      "\n",
      "Epoch 00006: val_accuracy improved from 0.77165 to 0.78740, saving model to ../data/model_2.h5\n",
      "\n",
      "Epoch 00007: val_accuracy improved from 0.78740 to 0.79921, saving model to ../data/model_2.h5\n",
      "\n",
      "Epoch 00008: val_accuracy improved from 0.79921 to 0.80315, saving model to ../data/model_2.h5\n",
      "\n",
      "Epoch 00009: val_accuracy improved from 0.80315 to 0.81102, saving model to ../data/model_2.h5\n",
      "\n",
      "Epoch 00010: val_accuracy did not improve from 0.81102\n",
      "\n",
      "Epoch 00011: val_accuracy improved from 0.81102 to 0.81496, saving model to ../data/model_2.h5\n",
      "\n",
      "Epoch 00012: val_accuracy improved from 0.81496 to 0.81890, saving model to ../data/model_2.h5\n",
      "\n",
      "Epoch 00013: val_accuracy did not improve from 0.81890\n",
      "\n",
      "Epoch 00014: val_accuracy did not improve from 0.81890\n",
      "\n",
      "Epoch 00015: val_accuracy did not improve from 0.81890\n",
      "\n",
      "Epoch 00016: val_accuracy did not improve from 0.81890\n",
      "\n",
      "Epoch 00017: val_accuracy did not improve from 0.81890\n",
      "\n",
      "Epoch 00018: val_accuracy did not improve from 0.81890\n",
      "\n",
      "Epoch 00019: val_accuracy did not improve from 0.81890\n",
      "\n",
      "Epoch 00020: val_accuracy did not improve from 0.81890\n",
      "\n",
      "Epoch 00021: val_accuracy did not improve from 0.81890\n",
      "\n",
      "Epoch 00022: val_accuracy did not improve from 0.81890\n",
      "\n",
      "Epoch 00023: val_accuracy did not improve from 0.81890\n",
      "\n",
      "Epoch 00024: val_accuracy did not improve from 0.81890\n",
      "\n",
      "Epoch 00025: val_accuracy did not improve from 0.81890\n",
      "\n",
      "Epoch 00026: val_accuracy did not improve from 0.81890\n",
      "\n",
      "Epoch 00027: val_accuracy did not improve from 0.81890\n",
      "\n",
      "Epoch 00028: val_accuracy did not improve from 0.81890\n",
      "\n",
      "Epoch 00029: val_accuracy did not improve from 0.81890\n",
      "\n",
      "Epoch 00030: val_accuracy did not improve from 0.81890\n"
     ]
    }
   ],
   "source": [
    "# fit model\n",
    "emb_history = emb_model.fit(X_train_seq_trunc, \n",
    "                        y_train_oh, \n",
    "                        epochs = 30,\n",
    "                        batch_size = 512,\n",
    "                        validation_data = (X_val_seq_trunc, y_val_oh),\n",
    "                        verbose = 0, \n",
    "                        callbacks=[es, mc])"
   ]
  },
  {
   "cell_type": "code",
   "execution_count": 26,
   "metadata": {},
   "outputs": [],
   "source": [
    "# load the saved model\n",
    "saved_model = load_model('../data/model_2.h5')"
   ]
  },
  {
   "cell_type": "markdown",
   "metadata": {},
   "source": [
    "**Create submission file**"
   ]
  },
  {
   "cell_type": "code",
   "execution_count": 27,
   "metadata": {},
   "outputs": [],
   "source": [
    "predictions = saved_model.predict_classes(X_test_seq_trunc)"
   ]
  },
  {
   "cell_type": "code",
   "execution_count": 28,
   "metadata": {},
   "outputs": [],
   "source": [
    "pd.DataFrame({'id': ids, 'target': predictions}).to_csv('../data/10. Submission_Keras_Embeddings.csv', index=False)"
   ]
  },
  {
   "cell_type": "markdown",
   "metadata": {},
   "source": [
    "**Submission result**\n",
    "\n",
    "Score: 0.55828"
   ]
  },
  {
   "cell_type": "markdown",
   "metadata": {},
   "source": [
    "### Model #3"
   ]
  },
  {
   "cell_type": "code",
   "execution_count": null,
   "metadata": {},
   "outputs": [],
   "source": [
    "emb_model = models.Sequential()\n",
    "emb_model.add(layers.Embedding(input_dim = 10000, output_dim = 64, input_length = MAX_LEN))\n",
    "emb_model.add(layers.Flatten())\n",
    "\n",
    "emb_model.add(layers.Dense(64, activation='relu'))\n",
    "emb_model.add(layers.Dropout(0.5))\n",
    "emb_model.add(layers.Dense(64, activation='relu'))\n",
    "emb_model.add(layers.Dropout(0.5))\n",
    "emb_model.add(layers.Dense(64, activation='relu'))\n",
    "emb_model.add(layers.Dropout(0.5))\n",
    "\n",
    "emb_model.add(layers.Dense(2, activation='softmax'))\n",
    "emb_model.summary()"
   ]
  },
  {
   "cell_type": "code",
   "execution_count": null,
   "metadata": {},
   "outputs": [],
   "source": [
    "emb_model.compile(optimizer = 'adam', \n",
    "                  loss = 'binary_crossentropy', \n",
    "                  metrics = ['accuracy'])"
   ]
  },
  {
   "cell_type": "code",
   "execution_count": null,
   "metadata": {},
   "outputs": [],
   "source": [
    "# simple early stopping\n",
    "es = EarlyStopping(monitor='val_loss', mode='min', verbose=1, patience=200)\n",
    "mc = ModelCheckpoint('../data/model_3.h5', monitor='val_accuracy', mode='max', verbose=1, save_best_only=True)"
   ]
  },
  {
   "cell_type": "code",
   "execution_count": null,
   "metadata": {},
   "outputs": [],
   "source": [
    "# fit model\n",
    "emb_history = emb_model.fit(X_train_emb, \n",
    "                            y_train_emb, \n",
    "                            epochs = 30,\n",
    "                            validation_data = (X_valid_emb, y_valid_emb),\n",
    "                            verbose=0, callbacks=[es, mc])"
   ]
  },
  {
   "cell_type": "code",
   "execution_count": null,
   "metadata": {},
   "outputs": [],
   "source": [
    "# load the saved model\n",
    "saved_model = load_model('../data/model_3.h5')"
   ]
  },
  {
   "cell_type": "code",
   "execution_count": null,
   "metadata": {},
   "outputs": [],
   "source": [
    "# evaluate the model\n",
    "_, train_acc = saved_model.evaluate(X_train_seq_trunc, y_train_oh, verbose=0)\n",
    "_, test_acc = saved_model.evaluate(X_test_seq_trunc, y_test_oh, verbose=0)\n",
    "print('Train accuracy: %.3f, Test accuracy: %.3f' % (train_acc, test_acc))"
   ]
  },
  {
   "cell_type": "markdown",
   "metadata": {},
   "source": [
    "### Model #4"
   ]
  },
  {
   "cell_type": "code",
   "execution_count": null,
   "metadata": {},
   "outputs": [],
   "source": [
    "df_train = pd.read_csv(\"../data/train.csv\")\n",
    "df_test = pd.read_csv(\"../data/test_labeled.csv\")\n",
    "\n",
    "df_train.text = df_train.text.apply(preprocess_tweet).apply(remove_stopwords)\n",
    "df_test.text = df_test.text.apply(preprocess_tweet).apply(remove_stopwords)"
   ]
  },
  {
   "cell_type": "code",
   "execution_count": null,
   "metadata": {},
   "outputs": [],
   "source": [
    "X_train = df_train.text\n",
    "y_train = df_train.target\n",
    "\n",
    "X_test = df_test.text\n",
    "y_test = df_test.target"
   ]
  },
  {
   "cell_type": "code",
   "execution_count": null,
   "metadata": {},
   "outputs": [],
   "source": [
    "tk = Tokenizer(num_words = 10000,\n",
    "               filters = '!\"#$%&()*+,-./:;<=>?@[\\\\]^_`{|}~\\t\\n',\n",
    "               split = \" \")\n",
    "tk.fit_on_texts(X_train)\n",
    "\n",
    "X_train_seq = tk.texts_to_sequences(X_train)\n",
    "X_test_seq = tk.texts_to_sequences(X_test)"
   ]
  },
  {
   "cell_type": "code",
   "execution_count": null,
   "metadata": {},
   "outputs": [],
   "source": [
    "X_train_seq_trunc = pad_sequences(X_train_seq, maxlen = MAX_LEN)\n",
    "X_test_seq_trunc = pad_sequences(X_test_seq, maxlen = MAX_LEN)"
   ]
  },
  {
   "cell_type": "code",
   "execution_count": null,
   "metadata": {},
   "outputs": [],
   "source": [
    "le = LabelEncoder()\n",
    "y_train_le = le.fit_transform(y_train)\n",
    "y_test_le = le.transform(y_test)\n",
    "y_train_oh = to_categorical(y_train_le)\n",
    "y_test_oh = to_categorical(y_test_le)"
   ]
  },
  {
   "cell_type": "code",
   "execution_count": null,
   "metadata": {},
   "outputs": [],
   "source": [
    "# define 5-fold cross validation test harness\n",
    "kfold = StratifiedKFold(n_splits=5, shuffle=True, random_state=7)\n",
    "cvscores = []\n",
    "\n",
    "for train, test in kfold.split(X_train_seq_trunc, y_train_oh.argmax(1)):\n",
    "  # create model\n",
    "    emb_model = models.Sequential()\n",
    "    emb_model.add(layers.Embedding(input_dim = 10000, output_dim = 64, input_length = MAX_LEN))\n",
    "    emb_model.add(layers.Flatten())\n",
    "\n",
    "    emb_model.add(layers.Dense(8, activation='relu'))\n",
    "    emb_model.add(layers.Dropout(0.1))\n",
    "    emb_model.add(layers.Dense(8, activation='relu'))\n",
    "    emb_model.add(layers.Dropout(0.1))\n",
    "\n",
    "    emb_model.add(layers.Dense(2, activation='softmax'))\n",
    "    \n",
    "    # Compile model\n",
    "    emb_model.compile(optimizer = 'adam', loss = 'binary_crossentropy', metrics = ['accuracy'])    \n",
    "    \n",
    "    # Fit the model\n",
    "    emb_model.fit(X_train_seq_trunc[train], y_train_oh[train], epochs = 30, verbose=0)\n",
    "\n",
    "    # evaluate the model\n",
    "    scores = emb_model.evaluate(X_train_seq_trunc[test], y_train_oh[test], verbose=0)\n",
    "    \n",
    "    print(\"%s: %.2f%%\" % (emb_model.metrics_names[1], scores[1]*100))\n",
    "    cvscores.append(scores[1] * 100)\n",
    "print(\"%.2f%% (+/- %.2f%%)\" % (np.mean(cvscores), np.std(cvscores)))"
   ]
  },
  {
   "cell_type": "code",
   "execution_count": null,
   "metadata": {},
   "outputs": [],
   "source": [
    "# evaluate the model\n",
    "_, test_acc = emb_model.evaluate(X_test_seq_trunc, y_test_oh, verbose=0)\n",
    "print('Test accuracy: %.3f' % (test_acc))"
   ]
  }
 ],
 "metadata": {
  "kernelspec": {
   "display_name": "Python 3",
   "language": "python",
   "name": "python3"
  },
  "language_info": {
   "codemirror_mode": {
    "name": "ipython",
    "version": 3
   },
   "file_extension": ".py",
   "mimetype": "text/x-python",
   "name": "python",
   "nbconvert_exporter": "python",
   "pygments_lexer": "ipython3",
   "version": "3.7.6"
  }
 },
 "nbformat": 4,
 "nbformat_minor": 4
}

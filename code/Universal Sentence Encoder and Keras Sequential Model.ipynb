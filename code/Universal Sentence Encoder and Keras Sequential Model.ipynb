{
  "nbformat": 4,
  "nbformat_minor": 0,
  "metadata": {
    "accelerator": "GPU",
    "colab": {
      "name": "Classification with Universal Sentence Encoder and Keras",
      "provenance": [],
      "collapsed_sections": [],
      "authorship_tag": "ABX9TyMn6X9+KMh56lOOUbg9lA9R",
      "include_colab_link": true
    },
    "kernelspec": {
      "display_name": "Python 3",
      "language": "python",
      "name": "python3"
    },
    "language_info": {
      "codemirror_mode": {
        "name": "ipython",
        "version": 3
      },
      "file_extension": ".py",
      "mimetype": "text/x-python",
      "name": "python",
      "nbconvert_exporter": "python",
      "pygments_lexer": "ipython3",
      "version": "3.7.6"
    }
  },
  "cells": [
    {
      "cell_type": "markdown",
      "metadata": {
        "id": "view-in-github",
        "colab_type": "text"
      },
      "source": [
        "<a href=\"https://colab.research.google.com/github/mkrsteska/BSA2020_Team_Tissot_Project_2/blob/master/code/Universal%20Sentence%20Encoder%20and%20Keras%20Sequential%20Model.ipynb\" target=\"_parent\"><img src=\"https://colab.research.google.com/assets/colab-badge.svg\" alt=\"Open In Colab\"/></a>"
      ]
    },
    {
      "cell_type": "code",
      "metadata": {
        "colab_type": "code",
        "id": "NY0XCkq95X1c",
        "outputId": "9bbe2e83-3723-4abc-91fd-6ca84ededd78",
        "colab": {
          "base_uri": "https://localhost:8080/",
          "height": 34
        }
      },
      "source": [
        "import tensorflow as tf\n",
        "from tensorflow import keras\n",
        "import tensorflow_hub as hub\n",
        "from tqdm import tqdm\n",
        "import numpy as np\n",
        "import pandas as pd\n",
        "from preprocess_tweets import preprocess_tweet_use"
      ],
      "execution_count": 0,
      "outputs": [
        {
          "output_type": "stream",
          "text": [
            "Using TensorFlow backend.\n"
          ],
          "name": "stderr"
        }
      ]
    },
    {
      "cell_type": "code",
      "metadata": {
        "colab_type": "code",
        "id": "ZgFF_VDhU7y9",
        "colab": {}
      },
      "source": [
        "# Load Universal Sentence Encoder\n",
        "use = hub.load(\"https://tfhub.dev/google/universal-sentence-encoder-large/5\")"
      ],
      "execution_count": 0,
      "outputs": []
    },
    {
      "cell_type": "markdown",
      "metadata": {
        "colab_type": "text",
        "id": "xWaczP8gurqF"
      },
      "source": [
        "### **Model #1**"
      ]
    },
    {
      "cell_type": "code",
      "metadata": {
        "colab_type": "code",
        "id": "ZA7NRMcHtgEB",
        "colab": {}
      },
      "source": [
        "# Read the data \n",
        "df = pd.read_csv(\"train.csv\")\n",
        "df_test = pd.read_csv(\"test.csv\")\n",
        "df = df[[\"text\", \"target\"]]"
      ],
      "execution_count": 0,
      "outputs": []
    },
    {
      "cell_type": "code",
      "metadata": {
        "colab_type": "code",
        "id": "tLm5yCNLuHph",
        "colab": {}
      },
      "source": [
        "train_text = df.text.values\n",
        "test_text = df_test.text.values\n",
        "y_train = df.target.values"
      ],
      "execution_count": 0,
      "outputs": []
    },
    {
      "cell_type": "code",
      "metadata": {
        "colab_type": "code",
        "id": "or_qE2rLuaDA",
        "outputId": "b1230c71-14cc-4f80-c3c3-8be09884efe6",
        "colab": {
          "base_uri": "https://localhost:8080/",
          "height": 34
        }
      },
      "source": [
        "# Encoding tweets into embedding vectors using universal sentence encoder\n",
        "\n",
        "X_train = []\n",
        "for r in tqdm(train_text):\n",
        "  emb = use([r])\n",
        "  text_emb = tf.reshape(emb, [-1]).numpy()\n",
        "  X_train.append(text_emb)\n",
        "X_train = np.array(X_train)"
      ],
      "execution_count": 0,
      "outputs": [
        {
          "output_type": "stream",
          "text": [
            "100%|██████████| 7613/7613 [04:35<00:00, 27.59it/s]\n"
          ],
          "name": "stderr"
        }
      ]
    },
    {
      "cell_type": "code",
      "metadata": {
        "colab_type": "code",
        "id": "dXpdy378wx6d",
        "outputId": "6c1d706d-b4c5-4486-c40b-d969d173b4d3",
        "colab": {
          "base_uri": "https://localhost:8080/",
          "height": 34
        }
      },
      "source": [
        "# Encoding tweets into embedding vectors using universal sentence encoder\n",
        "\n",
        "X_test = []\n",
        "for r in tqdm(test_text):\n",
        "  emb = use([r])\n",
        "  text_emb = tf.reshape(emb, [-1]).numpy()\n",
        "  X_test.append(text_emb)\n",
        "\n",
        "X_test = np.array(X_test)"
      ],
      "execution_count": 0,
      "outputs": [
        {
          "output_type": "stream",
          "text": [
            "100%|██████████| 3263/3263 [01:53<00:00, 28.68it/s]\n"
          ],
          "name": "stderr"
        }
      ]
    },
    {
      "cell_type": "code",
      "metadata": {
        "colab_type": "code",
        "id": "9eZ6alidxTNJ",
        "outputId": "3bbd9e3c-2308-479d-d0d6-7361f8f3a38a",
        "colab": {
          "base_uri": "https://localhost:8080/",
          "height": 68
        }
      },
      "source": [
        "print (\"X_train shape\", X_train.shape)\n",
        "print (\"y_train shape\", y_train.shape)\n",
        "print (\"X_test shape\", X_test.shape)"
      ],
      "execution_count": 0,
      "outputs": [
        {
          "output_type": "stream",
          "text": [
            "X_train shape (7613, 512)\n",
            "y_train shape (7613,)\n",
            "X_test shape (3263, 512)\n"
          ],
          "name": "stdout"
        }
      ]
    },
    {
      "cell_type": "code",
      "metadata": {
        "colab_type": "code",
        "id": "4oQmEWPCxfkc",
        "colab": {}
      },
      "source": [
        "model = keras.Sequential()\n",
        "\n",
        "model.add(keras.layers.Dense(units=256, input_shape=(X_train.shape[1], ),activation='relu'))\n",
        "\n",
        "model.add(keras.layers.Dropout(rate=0.2))\n",
        "\n",
        "model.add(keras.layers.Dense(units=128, activation='relu'))\n",
        "\n",
        "model.add(keras.layers.Dropout(rate=0.2))\n",
        "\n",
        "model.add(keras.layers.Dense(1, activation='sigmoid'))\n",
        "\n",
        "model.compile( \n",
        "    loss='binary_crossentropy', \n",
        "    optimizer=keras.optimizers.Adam(0.001),\n",
        "    metrics=['accuracy']\n",
        ")"
      ],
      "execution_count": 0,
      "outputs": []
    },
    {
      "cell_type": "code",
      "metadata": {
        "colab_type": "code",
        "id": "f8Gv5rbxx0WW",
        "outputId": "b3cf696f-8335-44be-fcb7-ac31b3ce50a9",
        "colab": {
          "base_uri": "https://localhost:8080/",
          "height": 357
        }
      },
      "source": [
        "history = model.fit(\n",
        "    X_train, y_train, \n",
        "    epochs = 10, \n",
        "    batch_size = 512,\n",
        "    validation_split = 0.1,\n",
        "    verbose = 1,\n",
        "    shuffle = True\n",
        ")"
      ],
      "execution_count": 0,
      "outputs": [
        {
          "output_type": "stream",
          "text": [
            "Epoch 1/10\n",
            "14/14 [==============================] - 0s 14ms/step - loss: 0.6454 - accuracy: 0.6392 - val_loss: 0.5511 - val_accuracy: 0.8123\n",
            "Epoch 2/10\n",
            "14/14 [==============================] - 0s 7ms/step - loss: 0.4942 - accuracy: 0.8079 - val_loss: 0.4022 - val_accuracy: 0.8346\n",
            "Epoch 3/10\n",
            "14/14 [==============================] - 0s 7ms/step - loss: 0.4246 - accuracy: 0.8151 - val_loss: 0.3670 - val_accuracy: 0.8517\n",
            "Epoch 4/10\n",
            "14/14 [==============================] - 0s 7ms/step - loss: 0.3941 - accuracy: 0.8286 - val_loss: 0.3586 - val_accuracy: 0.8491\n",
            "Epoch 5/10\n",
            "14/14 [==============================] - 0s 7ms/step - loss: 0.3755 - accuracy: 0.8403 - val_loss: 0.3550 - val_accuracy: 0.8504\n",
            "Epoch 6/10\n",
            "14/14 [==============================] - 0s 7ms/step - loss: 0.3598 - accuracy: 0.8472 - val_loss: 0.3526 - val_accuracy: 0.8412\n",
            "Epoch 7/10\n",
            "14/14 [==============================] - 0s 7ms/step - loss: 0.3454 - accuracy: 0.8558 - val_loss: 0.3533 - val_accuracy: 0.8425\n",
            "Epoch 8/10\n",
            "14/14 [==============================] - 0s 7ms/step - loss: 0.3288 - accuracy: 0.8618 - val_loss: 0.3578 - val_accuracy: 0.8438\n",
            "Epoch 9/10\n",
            "14/14 [==============================] - 0s 7ms/step - loss: 0.3138 - accuracy: 0.8702 - val_loss: 0.3572 - val_accuracy: 0.8478\n",
            "Epoch 10/10\n",
            "14/14 [==============================] - 0s 7ms/step - loss: 0.2967 - accuracy: 0.8799 - val_loss: 0.3640 - val_accuracy: 0.8530\n"
          ],
          "name": "stdout"
        }
      ]
    },
    {
      "cell_type": "code",
      "metadata": {
        "colab_type": "code",
        "id": "uIdEa3Qo7qGm",
        "colab": {}
      },
      "source": [
        "df_test = pd.read_csv(\"test.csv\")\n",
        "ids = df_test['id'].to_numpy()"
      ],
      "execution_count": 0,
      "outputs": []
    },
    {
      "cell_type": "code",
      "metadata": {
        "colab_type": "code",
        "id": "OmhIZkSN0YgM",
        "colab": {}
      },
      "source": [
        "predictions = model.predict_classes(X_test)[:, 0]"
      ],
      "execution_count": 0,
      "outputs": []
    },
    {
      "cell_type": "code",
      "metadata": {
        "colab_type": "code",
        "id": "nUDnESaG8YVE",
        "colab": {}
      },
      "source": [
        "pd.DataFrame({'id': ids, 'target': predictions}).to_csv('5. Submission_Tensorflow_Keras.csv', index=False)"
      ],
      "execution_count": 0,
      "outputs": []
    },
    {
      "cell_type": "markdown",
      "metadata": {
        "colab_type": "text",
        "id": "gA6SR31tLKlk"
      },
      "source": [
        "### **Model #2**\n",
        "**with preprocessed tweets**"
      ]
    },
    {
      "cell_type": "code",
      "metadata": {
        "colab_type": "code",
        "id": "oFYooZGSkg38",
        "colab": {}
      },
      "source": [
        "#Read the data\n",
        "df = pd.read_csv(\"train.csv\")\n",
        "df_test = pd.read_csv(\"test.csv\")\n",
        "df = df[[\"text\", \"target\"]]"
      ],
      "execution_count": 0,
      "outputs": []
    },
    {
      "cell_type": "code",
      "metadata": {
        "colab_type": "code",
        "id": "NlFD6jwMu-pb",
        "colab": {}
      },
      "source": [
        "train_text = df.text.apply(preprocess_tweet_use)\n",
        "test_text = df_test.text.apply(preprocess_tweet_use)\n",
        "y_train = df.target"
      ],
      "execution_count": 0,
      "outputs": []
    },
    {
      "cell_type": "code",
      "metadata": {
        "colab_type": "code",
        "id": "aDgPtZR8ky9M",
        "outputId": "0c3aeb60-5f83-4582-9deb-1b0b244451bc",
        "colab": {
          "base_uri": "https://localhost:8080/",
          "height": 34
        }
      },
      "source": [
        "# Encoding tweets into embedding vectors using universal sentence encoder\n",
        "\n",
        "X_train = []\n",
        "for r in tqdm(train_text):\n",
        "  emb = use([r])\n",
        "  text_emb = tf.reshape(emb, [-1]).numpy()\n",
        "  X_train.append(text_emb)\n",
        "X_train = np.array(X_train)"
      ],
      "execution_count": 0,
      "outputs": [
        {
          "output_type": "stream",
          "text": [
            "100%|██████████| 7613/7613 [04:23<00:00, 28.84it/s]\n"
          ],
          "name": "stderr"
        }
      ]
    },
    {
      "cell_type": "code",
      "metadata": {
        "colab_type": "code",
        "id": "r_wdO5Abk396",
        "outputId": "52c81964-62cd-49b9-c59b-9d67ac7961ff",
        "colab": {
          "base_uri": "https://localhost:8080/",
          "height": 34
        }
      },
      "source": [
        "# Encoding tweets into embedding vectors using universal sentence encoder\n",
        "\n",
        "X_test = []\n",
        "for r in tqdm(test_text):\n",
        "  emb = use([r])\n",
        "  text_emb = tf.reshape(emb, [-1]).numpy()\n",
        "  X_test.append(text_emb)\n",
        "\n",
        "X_test = np.array(X_test)"
      ],
      "execution_count": 0,
      "outputs": [
        {
          "output_type": "stream",
          "text": [
            "100%|██████████| 3263/3263 [01:49<00:00, 29.66it/s]\n"
          ],
          "name": "stderr"
        }
      ]
    },
    {
      "cell_type": "code",
      "metadata": {
        "colab_type": "code",
        "id": "Lpge49FAnMh8",
        "colab": {}
      },
      "source": [
        "model = keras.Sequential()\n",
        "\n",
        "model.add(keras.layers.Dense(units=256, input_shape=(X_train.shape[1], ),activation='relu'))\n",
        "\n",
        "model.add(keras.layers.Dropout(rate=0.1))\n",
        "\n",
        "model.add(keras.layers.Dense(units=128, activation='relu'))\n",
        "\n",
        "model.add(keras.layers.Dropout(rate=0.1))\n",
        "\n",
        "model.add(keras.layers.Dense(1, activation='sigmoid'))\n",
        "\n",
        "model.compile( \n",
        "    loss='binary_crossentropy', \n",
        "    optimizer=keras.optimizers.Adam(0.001),\n",
        "    metrics=['accuracy']\n",
        ")"
      ],
      "execution_count": 0,
      "outputs": []
    },
    {
      "cell_type": "code",
      "metadata": {
        "colab_type": "code",
        "id": "34QxraoxnQlz",
        "outputId": "8539266c-c204-4a37-aa76-f1be837a52fb",
        "colab": {
          "base_uri": "https://localhost:8080/",
          "height": 425
        }
      },
      "source": [
        "history = model.fit(\n",
        "    X_train, y_train, \n",
        "    epochs = 12, \n",
        "    batch_size = 1024,\n",
        "    validation_split = 0.1,\n",
        "    verbose = 1,\n",
        "    shuffle = True\n",
        ")"
      ],
      "execution_count": 0,
      "outputs": [
        {
          "output_type": "stream",
          "text": [
            "Epoch 1/12\n",
            "7/7 [==============================] - 0s 23ms/step - loss: 0.6657 - accuracy: 0.6314 - val_loss: 0.6270 - val_accuracy: 0.7572\n",
            "Epoch 2/12\n",
            "7/7 [==============================] - 0s 10ms/step - loss: 0.5830 - accuracy: 0.7742 - val_loss: 0.5155 - val_accuracy: 0.8241\n",
            "Epoch 3/12\n",
            "7/7 [==============================] - 0s 11ms/step - loss: 0.4828 - accuracy: 0.8151 - val_loss: 0.4205 - val_accuracy: 0.8333\n",
            "Epoch 4/12\n",
            "7/7 [==============================] - 0s 9ms/step - loss: 0.4270 - accuracy: 0.8200 - val_loss: 0.3899 - val_accuracy: 0.8412\n",
            "Epoch 5/12\n",
            "7/7 [==============================] - 0s 10ms/step - loss: 0.4064 - accuracy: 0.8272 - val_loss: 0.3744 - val_accuracy: 0.8373\n",
            "Epoch 6/12\n",
            "7/7 [==============================] - 0s 9ms/step - loss: 0.3868 - accuracy: 0.8383 - val_loss: 0.3664 - val_accuracy: 0.8465\n",
            "Epoch 7/12\n",
            "7/7 [==============================] - 0s 9ms/step - loss: 0.3742 - accuracy: 0.8418 - val_loss: 0.3662 - val_accuracy: 0.8504\n",
            "Epoch 8/12\n",
            "7/7 [==============================] - 0s 10ms/step - loss: 0.3624 - accuracy: 0.8492 - val_loss: 0.3635 - val_accuracy: 0.8517\n",
            "Epoch 9/12\n",
            "7/7 [==============================] - 0s 10ms/step - loss: 0.3513 - accuracy: 0.8529 - val_loss: 0.3612 - val_accuracy: 0.8530\n",
            "Epoch 10/12\n",
            "7/7 [==============================] - 0s 11ms/step - loss: 0.3393 - accuracy: 0.8593 - val_loss: 0.3610 - val_accuracy: 0.8530\n",
            "Epoch 11/12\n",
            "7/7 [==============================] - 0s 9ms/step - loss: 0.3323 - accuracy: 0.8613 - val_loss: 0.3598 - val_accuracy: 0.8556\n",
            "Epoch 12/12\n",
            "7/7 [==============================] - 0s 9ms/step - loss: 0.3221 - accuracy: 0.8679 - val_loss: 0.3615 - val_accuracy: 0.8543\n"
          ],
          "name": "stdout"
        }
      ]
    },
    {
      "cell_type": "code",
      "metadata": {
        "colab_type": "code",
        "id": "ZZmmQXAeqEel",
        "colab": {}
      },
      "source": [
        "predictions = model.predict_classes(X_test)[:, 0]"
      ],
      "execution_count": 0,
      "outputs": []
    },
    {
      "cell_type": "code",
      "metadata": {
        "colab_type": "code",
        "id": "mfIrh5Y7qSHV",
        "colab": {}
      },
      "source": [
        "pd.DataFrame({'id': ids, 'target': predictions}).to_csv('6. Submission_Tensorflow_Keras.csv', index=False)"
      ],
      "execution_count": 0,
      "outputs": []
    },
    {
      "cell_type": "markdown",
      "metadata": {
        "colab_type": "text",
        "id": "Yw6JCjHIqE1I"
      },
      "source": [
        "### **Model #3**\n",
        "**with preprocessed tweets**"
      ]
    },
    {
      "cell_type": "code",
      "metadata": {
        "colab_type": "code",
        "id": "EvZd34M2MYl7",
        "outputId": "18eb66ca-31ed-4e11-a3c7-d4d2b88c7de5",
        "colab": {
          "base_uri": "https://localhost:8080/",
          "height": 34
        }
      },
      "source": [
        "X_train_expand = np.expand_dims(X_train, axis=2)\n",
        "\n",
        "X_train_expand.shape"
      ],
      "execution_count": 0,
      "outputs": [
        {
          "output_type": "execute_result",
          "data": {
            "text/plain": [
              "(7613, 512, 1)"
            ]
          },
          "metadata": {
            "tags": []
          },
          "execution_count": 32
        }
      ]
    },
    {
      "cell_type": "code",
      "metadata": {
        "colab_type": "code",
        "id": "Q5a6C969BgI8",
        "outputId": "9bc7eab7-b876-4e7c-8520-59881c736979",
        "colab": {
          "base_uri": "https://localhost:8080/",
          "height": 139
        }
      },
      "source": [
        "model = keras.Sequential()\n",
        "\n",
        "model.add(keras.layers.Conv1D(32, kernel_size=3, activation='elu', padding='same', input_shape=(512, 1)))\n",
        "\n",
        "model.add(keras.layers.Conv1D(32, kernel_size=3, activation='elu', padding='same'))\n",
        "\n",
        "model.add(keras.layers.Conv1D(32, kernel_size=3, activation='relu', padding='same'))\n",
        "\n",
        "model.add(keras.layers.MaxPooling1D(pool_size=3))\n",
        "\n",
        "model.add(keras.layers.Bidirectional(keras.layers.LSTM(100, dropout=0.2, recurrent_dropout=0.2)))\n",
        "\n",
        "model.add(keras.layers.Dense(units=256, activation='relu'))\n",
        "\n",
        "model.add(keras.layers.Dropout(rate=0.1))\n",
        "\n",
        "model.add(keras.layers.Dense(units=256, activation='relu'))\n",
        "\n",
        "model.add(keras.layers.Dropout(rate=0.1))\n",
        "\n",
        "model.add(keras.layers.Dense(units=128, activation='relu'))\n",
        "\n",
        "model.add(keras.layers.Dropout(rate=0.1))\n",
        "\n",
        "model.add(keras.layers.Dense(1, activation='sigmoid'))\n",
        "\n",
        "model.compile(loss='binary_crossentropy', optimizer=keras.optimizers.Adam(0.001), metrics=['accuracy'])"
      ],
      "execution_count": 0,
      "outputs": [
        {
          "output_type": "stream",
          "text": [
            "WARNING:tensorflow:Layer lstm will not use cuDNN kernel since it doesn't meet the cuDNN kernel criteria. It will use generic GPU kernel as fallback when running on GPU\n"
          ],
          "name": "stdout"
        },
        {
          "output_type": "stream",
          "text": [
            "WARNING:tensorflow:Layer lstm will not use cuDNN kernel since it doesn't meet the cuDNN kernel criteria. It will use generic GPU kernel as fallback when running on GPU\n"
          ],
          "name": "stderr"
        },
        {
          "output_type": "stream",
          "text": [
            "WARNING:tensorflow:Layer lstm will not use cuDNN kernel since it doesn't meet the cuDNN kernel criteria. It will use generic GPU kernel as fallback when running on GPU\n"
          ],
          "name": "stdout"
        },
        {
          "output_type": "stream",
          "text": [
            "WARNING:tensorflow:Layer lstm will not use cuDNN kernel since it doesn't meet the cuDNN kernel criteria. It will use generic GPU kernel as fallback when running on GPU\n"
          ],
          "name": "stderr"
        },
        {
          "output_type": "stream",
          "text": [
            "WARNING:tensorflow:Layer lstm will not use cuDNN kernel since it doesn't meet the cuDNN kernel criteria. It will use generic GPU kernel as fallback when running on GPU\n"
          ],
          "name": "stdout"
        },
        {
          "output_type": "stream",
          "text": [
            "WARNING:tensorflow:Layer lstm will not use cuDNN kernel since it doesn't meet the cuDNN kernel criteria. It will use generic GPU kernel as fallback when running on GPU\n"
          ],
          "name": "stderr"
        }
      ]
    },
    {
      "cell_type": "code",
      "metadata": {
        "colab_type": "code",
        "id": "7bdQ3PMsHAtz",
        "outputId": "2718a550-d5d7-4e89-e8bb-120b04041210",
        "colab": {
          "base_uri": "https://localhost:8080/",
          "height": 1000
        }
      },
      "source": [
        "history = model.fit(\n",
        "    X_train_expand, y_train, \n",
        "    epochs = 50, \n",
        "    batch_size = 512,\n",
        "    validation_split = 0.1,\n",
        "    verbose = 1,\n",
        "    shuffle = True\n",
        ")"
      ],
      "execution_count": 0,
      "outputs": [
        {
          "output_type": "stream",
          "text": [
            "Epoch 1/50\n",
            "14/14 [==============================] - 25s 2s/step - loss: 0.6855 - accuracy: 0.5697 - val_loss: 0.6912 - val_accuracy: 0.5341\n",
            "Epoch 2/50\n",
            "14/14 [==============================] - 24s 2s/step - loss: 0.6815 - accuracy: 0.5744 - val_loss: 0.6912 - val_accuracy: 0.5341\n",
            "Epoch 3/50\n",
            "14/14 [==============================] - 25s 2s/step - loss: 0.6745 - accuracy: 0.5744 - val_loss: 0.6819 - val_accuracy: 0.5341\n",
            "Epoch 4/50\n",
            "14/14 [==============================] - 25s 2s/step - loss: 0.6560 - accuracy: 0.6002 - val_loss: 0.6525 - val_accuracy: 0.6024\n",
            "Epoch 5/50\n",
            "14/14 [==============================] - 25s 2s/step - loss: 0.6404 - accuracy: 0.6352 - val_loss: 0.6328 - val_accuracy: 0.6417\n",
            "Epoch 6/50\n",
            "14/14 [==============================] - 25s 2s/step - loss: 0.6108 - accuracy: 0.6649 - val_loss: 0.5927 - val_accuracy: 0.6969\n",
            "Epoch 7/50\n",
            "14/14 [==============================] - 24s 2s/step - loss: 0.5914 - accuracy: 0.6929 - val_loss: 0.5750 - val_accuracy: 0.7073\n",
            "Epoch 8/50\n",
            "14/14 [==============================] - 24s 2s/step - loss: 0.5796 - accuracy: 0.7069 - val_loss: 0.5440 - val_accuracy: 0.7310\n",
            "Epoch 9/50\n",
            "14/14 [==============================] - 24s 2s/step - loss: 0.5727 - accuracy: 0.7139 - val_loss: 0.5412 - val_accuracy: 0.7297\n",
            "Epoch 10/50\n",
            "14/14 [==============================] - 24s 2s/step - loss: 0.5605 - accuracy: 0.7244 - val_loss: 0.5284 - val_accuracy: 0.7375\n",
            "Epoch 11/50\n",
            "14/14 [==============================] - 24s 2s/step - loss: 0.5501 - accuracy: 0.7284 - val_loss: 0.5077 - val_accuracy: 0.7507\n",
            "Epoch 12/50\n",
            "14/14 [==============================] - 25s 2s/step - loss: 0.5459 - accuracy: 0.7327 - val_loss: 0.5148 - val_accuracy: 0.7546\n",
            "Epoch 13/50\n",
            "14/14 [==============================] - 24s 2s/step - loss: 0.5362 - accuracy: 0.7451 - val_loss: 0.5044 - val_accuracy: 0.7572\n",
            "Epoch 14/50\n",
            "14/14 [==============================] - 25s 2s/step - loss: 0.5324 - accuracy: 0.7460 - val_loss: 0.4837 - val_accuracy: 0.7664\n",
            "Epoch 15/50\n",
            "14/14 [==============================] - 24s 2s/step - loss: 0.5260 - accuracy: 0.7516 - val_loss: 0.4789 - val_accuracy: 0.7717\n",
            "Epoch 16/50\n",
            "14/14 [==============================] - 25s 2s/step - loss: 0.5269 - accuracy: 0.7554 - val_loss: 0.4972 - val_accuracy: 0.7572\n",
            "Epoch 17/50\n",
            "14/14 [==============================] - 25s 2s/step - loss: 0.5163 - accuracy: 0.7568 - val_loss: 0.4729 - val_accuracy: 0.7808\n",
            "Epoch 18/50\n",
            "14/14 [==============================] - 24s 2s/step - loss: 0.5113 - accuracy: 0.7615 - val_loss: 0.4715 - val_accuracy: 0.7861\n",
            "Epoch 19/50\n",
            "14/14 [==============================] - 24s 2s/step - loss: 0.5140 - accuracy: 0.7574 - val_loss: 0.4634 - val_accuracy: 0.7861\n",
            "Epoch 20/50\n",
            "14/14 [==============================] - 25s 2s/step - loss: 0.5105 - accuracy: 0.7613 - val_loss: 0.4713 - val_accuracy: 0.7769\n",
            "Epoch 21/50\n",
            "14/14 [==============================] - 25s 2s/step - loss: 0.5135 - accuracy: 0.7564 - val_loss: 0.4821 - val_accuracy: 0.7743\n",
            "Epoch 22/50\n",
            "14/14 [==============================] - 25s 2s/step - loss: 0.5102 - accuracy: 0.7630 - val_loss: 0.4781 - val_accuracy: 0.7848\n",
            "Epoch 23/50\n",
            "14/14 [==============================] - 24s 2s/step - loss: 0.5007 - accuracy: 0.7643 - val_loss: 0.4853 - val_accuracy: 0.7677\n",
            "Epoch 24/50\n",
            "14/14 [==============================] - 25s 2s/step - loss: 0.5037 - accuracy: 0.7676 - val_loss: 0.4665 - val_accuracy: 0.7979\n",
            "Epoch 25/50\n",
            "14/14 [==============================] - 25s 2s/step - loss: 0.4977 - accuracy: 0.7703 - val_loss: 0.4593 - val_accuracy: 0.7913\n",
            "Epoch 26/50\n",
            "14/14 [==============================] - 25s 2s/step - loss: 0.4858 - accuracy: 0.7786 - val_loss: 0.4561 - val_accuracy: 0.7927\n",
            "Epoch 27/50\n",
            "14/14 [==============================] - 24s 2s/step - loss: 0.4963 - accuracy: 0.7704 - val_loss: 0.4531 - val_accuracy: 0.7913\n",
            "Epoch 28/50\n",
            "14/14 [==============================] - 24s 2s/step - loss: 0.4882 - accuracy: 0.7759 - val_loss: 0.4658 - val_accuracy: 0.7992\n",
            "Epoch 29/50\n",
            "14/14 [==============================] - 25s 2s/step - loss: 0.4974 - accuracy: 0.7703 - val_loss: 0.4747 - val_accuracy: 0.7887\n",
            "Epoch 30/50\n",
            "14/14 [==============================] - 24s 2s/step - loss: 0.4918 - accuracy: 0.7777 - val_loss: 0.4488 - val_accuracy: 0.7979\n",
            "Epoch 31/50\n",
            "14/14 [==============================] - 24s 2s/step - loss: 0.4785 - accuracy: 0.7822 - val_loss: 0.4427 - val_accuracy: 0.8058\n",
            "Epoch 32/50\n",
            "14/14 [==============================] - 24s 2s/step - loss: 0.4821 - accuracy: 0.7768 - val_loss: 0.4404 - val_accuracy: 0.8110\n",
            "Epoch 33/50\n",
            "14/14 [==============================] - 25s 2s/step - loss: 0.4804 - accuracy: 0.7777 - val_loss: 0.4578 - val_accuracy: 0.7953\n",
            "Epoch 34/50\n",
            "14/14 [==============================] - 25s 2s/step - loss: 0.4766 - accuracy: 0.7815 - val_loss: 0.4475 - val_accuracy: 0.8005\n",
            "Epoch 35/50\n",
            "14/14 [==============================] - 24s 2s/step - loss: 0.4752 - accuracy: 0.7859 - val_loss: 0.4387 - val_accuracy: 0.8084\n",
            "Epoch 36/50\n",
            "14/14 [==============================] - 24s 2s/step - loss: 0.4681 - accuracy: 0.7857 - val_loss: 0.4468 - val_accuracy: 0.8045\n",
            "Epoch 37/50\n",
            "14/14 [==============================] - 25s 2s/step - loss: 0.4693 - accuracy: 0.7851 - val_loss: 0.4422 - val_accuracy: 0.8031\n",
            "Epoch 38/50\n",
            "14/14 [==============================] - 24s 2s/step - loss: 0.4664 - accuracy: 0.7898 - val_loss: 0.4603 - val_accuracy: 0.7848\n",
            "Epoch 39/50\n",
            "14/14 [==============================] - 24s 2s/step - loss: 0.4645 - accuracy: 0.7886 - val_loss: 0.4506 - val_accuracy: 0.7966\n",
            "Epoch 40/50\n",
            "14/14 [==============================] - 24s 2s/step - loss: 0.4654 - accuracy: 0.7881 - val_loss: 0.4478 - val_accuracy: 0.7874\n",
            "Epoch 41/50\n",
            "14/14 [==============================] - 25s 2s/step - loss: 0.4666 - accuracy: 0.7856 - val_loss: 0.4478 - val_accuracy: 0.7979\n",
            "Epoch 42/50\n",
            "14/14 [==============================] - 24s 2s/step - loss: 0.4567 - accuracy: 0.7901 - val_loss: 0.4486 - val_accuracy: 0.7992\n",
            "Epoch 43/50\n",
            "14/14 [==============================] - 24s 2s/step - loss: 0.4597 - accuracy: 0.7919 - val_loss: 0.4323 - val_accuracy: 0.8071\n",
            "Epoch 44/50\n",
            "14/14 [==============================] - 24s 2s/step - loss: 0.4552 - accuracy: 0.7959 - val_loss: 0.4491 - val_accuracy: 0.7874\n",
            "Epoch 45/50\n",
            "14/14 [==============================] - 24s 2s/step - loss: 0.4575 - accuracy: 0.7932 - val_loss: 0.4409 - val_accuracy: 0.7887\n",
            "Epoch 46/50\n",
            "14/14 [==============================] - 24s 2s/step - loss: 0.4547 - accuracy: 0.7946 - val_loss: 0.4513 - val_accuracy: 0.7992\n",
            "Epoch 47/50\n",
            "14/14 [==============================] - 24s 2s/step - loss: 0.4536 - accuracy: 0.7980 - val_loss: 0.4395 - val_accuracy: 0.8071\n",
            "Epoch 48/50\n",
            "14/14 [==============================] - 25s 2s/step - loss: 0.4445 - accuracy: 0.7999 - val_loss: 0.4688 - val_accuracy: 0.7756\n",
            "Epoch 49/50\n",
            "14/14 [==============================] - 24s 2s/step - loss: 0.4570 - accuracy: 0.7938 - val_loss: 0.4336 - val_accuracy: 0.7992\n",
            "Epoch 50/50\n",
            "14/14 [==============================] - 25s 2s/step - loss: 0.4531 - accuracy: 0.7949 - val_loss: 0.4421 - val_accuracy: 0.7966\n"
          ],
          "name": "stdout"
        }
      ]
    },
    {
      "cell_type": "code",
      "metadata": {
        "colab_type": "code",
        "id": "7LlIHLmYtBaZ",
        "outputId": "2b64c030-3ae1-4685-a3d6-0f9789d5d39c",
        "colab": {
          "base_uri": "https://localhost:8080/",
          "height": 34
        }
      },
      "source": [
        "X_test_expand = np.expand_dims(X_test, axis=2)\n",
        "\n",
        "X_test_expand.shape"
      ],
      "execution_count": 0,
      "outputs": [
        {
          "output_type": "execute_result",
          "data": {
            "text/plain": [
              "(3263, 512, 1)"
            ]
          },
          "metadata": {
            "tags": []
          },
          "execution_count": 35
        }
      ]
    },
    {
      "cell_type": "code",
      "metadata": {
        "colab_type": "code",
        "id": "kaUh9m8mnYlB",
        "colab": {}
      },
      "source": [
        "predictions = model.predict_classes(X_test_expand)[:, 0]"
      ],
      "execution_count": 0,
      "outputs": []
    },
    {
      "cell_type": "code",
      "metadata": {
        "colab_type": "code",
        "id": "8I4vtuhfs4He",
        "colab": {}
      },
      "source": [
        "pd.DataFrame({'id': ids, 'target': predictions}).to_csv('7. Submission_Tensorflow_Keras.csv', index=False)"
      ],
      "execution_count": 0,
      "outputs": []
    }
  ]
}